{
 "cells": [
  {
   "cell_type": "code",
   "execution_count": 2,
   "metadata": {},
   "outputs": [],
   "source": [
    "import pandas as pd\n",
    "import seaborn as sns\n",
    "import matplotlib as plt"
   ]
  },
  {
   "cell_type": "code",
   "execution_count": 3,
   "metadata": {},
   "outputs": [],
   "source": [
    "ijmond_df = pd.read_json('../data/datasets/metadata_ijmond_jan_22_2024.json')"
   ]
  },
  {
   "cell_type": "code",
   "execution_count": 4,
   "metadata": {},
   "outputs": [],
   "source": [
    "rise_df = pd.read_json('../data/datasets/metadata_02242020.json')"
   ]
  },
  {
   "cell_type": "code",
   "execution_count": 5,
   "metadata": {},
   "outputs": [],
   "source": [
    "ijmond_df[\"camera_id\"] = ijmond_df[\"camera_id\"] + 3"
   ]
  },
  {
   "cell_type": "code",
   "execution_count": 5,
   "metadata": {},
   "outputs": [
    {
     "data": {
      "text/html": [
       "<div>\n",
       "<style scoped>\n",
       "    .dataframe tbody tr th:only-of-type {\n",
       "        vertical-align: middle;\n",
       "    }\n",
       "\n",
       "    .dataframe tbody tr th {\n",
       "        vertical-align: top;\n",
       "    }\n",
       "\n",
       "    .dataframe thead th {\n",
       "        text-align: right;\n",
       "    }\n",
       "</style>\n",
       "<table border=\"1\" class=\"dataframe\">\n",
       "  <thead>\n",
       "    <tr style=\"text-align: right;\">\n",
       "      <th></th>\n",
       "      <th>camera_id</th>\n",
       "      <th>file_name</th>\n",
       "      <th>id</th>\n",
       "      <th>label_state</th>\n",
       "      <th>label_state_admin</th>\n",
       "      <th>start_time</th>\n",
       "      <th>url_part</th>\n",
       "      <th>url_root</th>\n",
       "      <th>view_id</th>\n",
       "      <th>dataset</th>\n",
       "    </tr>\n",
       "  </thead>\n",
       "  <tbody>\n",
       "    <tr>\n",
       "      <th>0</th>\n",
       "      <td>0</td>\n",
       "      <td>0-7-2019-06-24-3504-1067-4125-1688-180-180-972...</td>\n",
       "      <td>103169</td>\n",
       "      <td>23</td>\n",
       "      <td>-1</td>\n",
       "      <td>2019-06-24 21:10:15</td>\n",
       "      <td>2019-06-24/0-7/0-7-2019-06-24-3504-1067-4125-1...</td>\n",
       "      <td>https://smoke.createlab.org/videos/180/</td>\n",
       "      <td>7</td>\n",
       "      <td>rise</td>\n",
       "    </tr>\n",
       "    <tr>\n",
       "      <th>1</th>\n",
       "      <td>0</td>\n",
       "      <td>0-7-2019-02-03-3544-899-4026-1381-180-180-7424...</td>\n",
       "      <td>22392</td>\n",
       "      <td>23</td>\n",
       "      <td>-1</td>\n",
       "      <td>2019-02-03 18:09:35</td>\n",
       "      <td>2019-02-03/0-7/0-7-2019-02-03-3544-899-4026-13...</td>\n",
       "      <td>https://smoke.createlab.org/videos/180/</td>\n",
       "      <td>7</td>\n",
       "      <td>rise</td>\n",
       "    </tr>\n",
       "    <tr>\n",
       "      <th>2</th>\n",
       "      <td>0</td>\n",
       "      <td>0-2-2018-07-07-5648-1004-6150-1506-180-180-598...</td>\n",
       "      <td>35476</td>\n",
       "      <td>23</td>\n",
       "      <td>-1</td>\n",
       "      <td>2018-07-07 15:20:35</td>\n",
       "      <td>2018-07-07/0-2/0-2-2018-07-07-5648-1004-6150-1...</td>\n",
       "      <td>https://smoke.createlab.org/videos/180/</td>\n",
       "      <td>2</td>\n",
       "      <td>rise</td>\n",
       "    </tr>\n",
       "    <tr>\n",
       "      <th>3</th>\n",
       "      <td>0</td>\n",
       "      <td>0-6-2018-07-07-3981-1084-4484-1587-180-180-385...</td>\n",
       "      <td>36353</td>\n",
       "      <td>23</td>\n",
       "      <td>-1</td>\n",
       "      <td>2018-07-07 12:15:00</td>\n",
       "      <td>2018-07-07/0-6/0-6-2018-07-07-3981-1084-4484-1...</td>\n",
       "      <td>https://smoke.createlab.org/videos/180/</td>\n",
       "      <td>6</td>\n",
       "      <td>rise</td>\n",
       "    </tr>\n",
       "    <tr>\n",
       "      <th>4</th>\n",
       "      <td>0</td>\n",
       "      <td>0-2-2018-09-19-5648-1004-6150-1506-180-180-100...</td>\n",
       "      <td>42767</td>\n",
       "      <td>23</td>\n",
       "      <td>-1</td>\n",
       "      <td>2018-09-19 21:43:05</td>\n",
       "      <td>2018-09-19/0-2/0-2-2018-09-19-5648-1004-6150-1...</td>\n",
       "      <td>https://smoke.createlab.org/videos/180/</td>\n",
       "      <td>2</td>\n",
       "      <td>rise</td>\n",
       "    </tr>\n",
       "    <tr>\n",
       "      <th>...</th>\n",
       "      <td>...</td>\n",
       "      <td>...</td>\n",
       "      <td>...</td>\n",
       "      <td>...</td>\n",
       "      <td>...</td>\n",
       "      <td>...</td>\n",
       "      <td>...</td>\n",
       "      <td>...</td>\n",
       "      <td>...</td>\n",
       "      <td>...</td>\n",
       "    </tr>\n",
       "    <tr>\n",
       "      <th>13441</th>\n",
       "      <td>3</td>\n",
       "      <td>TUZbSqcLVtU-4</td>\n",
       "      <td>700</td>\n",
       "      <td>23</td>\n",
       "      <td>47</td>\n",
       "      <td>2023-06-09 18:51:13</td>\n",
       "      <td>TUZbSqcLVtU</td>\n",
       "      <td>https://ijmondcam.multix.io/videos/</td>\n",
       "      <td>4</td>\n",
       "      <td>ijmond</td>\n",
       "    </tr>\n",
       "    <tr>\n",
       "      <th>13442</th>\n",
       "      <td>4</td>\n",
       "      <td>crAL3CrEt3s-0</td>\n",
       "      <td>172</td>\n",
       "      <td>16</td>\n",
       "      <td>16</td>\n",
       "      <td>2023-04-10 13:19:14</td>\n",
       "      <td>crAL3CrEt3s</td>\n",
       "      <td>https://ijmondcam.multix.io/videos/</td>\n",
       "      <td>0</td>\n",
       "      <td>ijmond</td>\n",
       "    </tr>\n",
       "    <tr>\n",
       "      <th>13443</th>\n",
       "      <td>4</td>\n",
       "      <td>DoNtmf5UBkY-1</td>\n",
       "      <td>381</td>\n",
       "      <td>-1</td>\n",
       "      <td>23</td>\n",
       "      <td>2023-07-08 15:49:13</td>\n",
       "      <td>DoNtmf5UBkY</td>\n",
       "      <td>https://ijmondcam.multix.io/videos/</td>\n",
       "      <td>1</td>\n",
       "      <td>ijmond</td>\n",
       "    </tr>\n",
       "    <tr>\n",
       "      <th>13444</th>\n",
       "      <td>5</td>\n",
       "      <td>ewJnawMTdAU-0</td>\n",
       "      <td>583</td>\n",
       "      <td>-1</td>\n",
       "      <td>16</td>\n",
       "      <td>2023-03-26 16:25:53</td>\n",
       "      <td>ewJnawMTdAU</td>\n",
       "      <td>https://ijmondcam.multix.io/videos/</td>\n",
       "      <td>0</td>\n",
       "      <td>ijmond</td>\n",
       "    </tr>\n",
       "    <tr>\n",
       "      <th>13445</th>\n",
       "      <td>4</td>\n",
       "      <td>vQZz9ePv_vQ-2</td>\n",
       "      <td>50</td>\n",
       "      <td>-1</td>\n",
       "      <td>16</td>\n",
       "      <td>2023-05-13 17:12:06</td>\n",
       "      <td>vQZz9ePv_vQ</td>\n",
       "      <td>https://ijmondcam.multix.io/videos/</td>\n",
       "      <td>2</td>\n",
       "      <td>ijmond</td>\n",
       "    </tr>\n",
       "  </tbody>\n",
       "</table>\n",
       "<p>13446 rows × 10 columns</p>\n",
       "</div>"
      ],
      "text/plain": [
       "       camera_id                                          file_name      id  \\\n",
       "0              0  0-7-2019-06-24-3504-1067-4125-1688-180-180-972...  103169   \n",
       "1              0  0-7-2019-02-03-3544-899-4026-1381-180-180-7424...   22392   \n",
       "2              0  0-2-2018-07-07-5648-1004-6150-1506-180-180-598...   35476   \n",
       "3              0  0-6-2018-07-07-3981-1084-4484-1587-180-180-385...   36353   \n",
       "4              0  0-2-2018-09-19-5648-1004-6150-1506-180-180-100...   42767   \n",
       "...          ...                                                ...     ...   \n",
       "13441          3                                      TUZbSqcLVtU-4     700   \n",
       "13442          4                                      crAL3CrEt3s-0     172   \n",
       "13443          4                                      DoNtmf5UBkY-1     381   \n",
       "13444          5                                      ewJnawMTdAU-0     583   \n",
       "13445          4                                      vQZz9ePv_vQ-2      50   \n",
       "\n",
       "       label_state  label_state_admin          start_time  \\\n",
       "0               23                 -1 2019-06-24 21:10:15   \n",
       "1               23                 -1 2019-02-03 18:09:35   \n",
       "2               23                 -1 2018-07-07 15:20:35   \n",
       "3               23                 -1 2018-07-07 12:15:00   \n",
       "4               23                 -1 2018-09-19 21:43:05   \n",
       "...            ...                ...                 ...   \n",
       "13441           23                 47 2023-06-09 18:51:13   \n",
       "13442           16                 16 2023-04-10 13:19:14   \n",
       "13443           -1                 23 2023-07-08 15:49:13   \n",
       "13444           -1                 16 2023-03-26 16:25:53   \n",
       "13445           -1                 16 2023-05-13 17:12:06   \n",
       "\n",
       "                                                url_part  \\\n",
       "0      2019-06-24/0-7/0-7-2019-06-24-3504-1067-4125-1...   \n",
       "1      2019-02-03/0-7/0-7-2019-02-03-3544-899-4026-13...   \n",
       "2      2018-07-07/0-2/0-2-2018-07-07-5648-1004-6150-1...   \n",
       "3      2018-07-07/0-6/0-6-2018-07-07-3981-1084-4484-1...   \n",
       "4      2018-09-19/0-2/0-2-2018-09-19-5648-1004-6150-1...   \n",
       "...                                                  ...   \n",
       "13441                                        TUZbSqcLVtU   \n",
       "13442                                        crAL3CrEt3s   \n",
       "13443                                        DoNtmf5UBkY   \n",
       "13444                                        ewJnawMTdAU   \n",
       "13445                                        vQZz9ePv_vQ   \n",
       "\n",
       "                                      url_root  view_id dataset  \n",
       "0      https://smoke.createlab.org/videos/180/        7    rise  \n",
       "1      https://smoke.createlab.org/videos/180/        7    rise  \n",
       "2      https://smoke.createlab.org/videos/180/        2    rise  \n",
       "3      https://smoke.createlab.org/videos/180/        6    rise  \n",
       "4      https://smoke.createlab.org/videos/180/        2    rise  \n",
       "...                                        ...      ...     ...  \n",
       "13441      https://ijmondcam.multix.io/videos/        4  ijmond  \n",
       "13442      https://ijmondcam.multix.io/videos/        0  ijmond  \n",
       "13443      https://ijmondcam.multix.io/videos/        1  ijmond  \n",
       "13444      https://ijmondcam.multix.io/videos/        0  ijmond  \n",
       "13445      https://ijmondcam.multix.io/videos/        2  ijmond  \n",
       "\n",
       "[13446 rows x 10 columns]"
      ]
     },
     "execution_count": 5,
     "metadata": {},
     "output_type": "execute_result"
    }
   ],
   "source": [
    "rise_df['dataset'] = 'rise'\n",
    "ijmond_df['dataset'] = 'ijmond'\n",
    "merged_dataset = pd.concat([rise_df, ijmond_df], ignore_index=True)\n",
    "merged_dataset"
   ]
  },
  {
   "cell_type": "code",
   "execution_count": 6,
   "metadata": {},
   "outputs": [],
   "source": [
    "#drop bad videos (file names were identified during eda)\n",
    "merged_dataset = merged_dataset.drop(merged_dataset[merged_dataset['file_name'] == 'bu7USw70eXs-1'].index)\n",
    "merged_dataset = merged_dataset.drop(merged_dataset[merged_dataset['file_name'] == '-A0yDQ9Tt70-0'].index)\n",
    "merged_dataset = merged_dataset.drop(merged_dataset[merged_dataset['file_name'] == 'yp8tlmwD0OI-0'].index)"
   ]
  },
  {
   "cell_type": "code",
   "execution_count": 7,
   "metadata": {},
   "outputs": [],
   "source": [
    "#save merged dataset\n",
    "merged_dataset.to_json(\"../data/datasets/merged_dataset.json\", orient='records')"
   ]
  },
  {
   "cell_type": "code",
   "execution_count": 6,
   "metadata": {},
   "outputs": [
    {
     "data": {
      "text/html": [
       "<div>\n",
       "<style scoped>\n",
       "    .dataframe tbody tr th:only-of-type {\n",
       "        vertical-align: middle;\n",
       "    }\n",
       "\n",
       "    .dataframe tbody tr th {\n",
       "        vertical-align: top;\n",
       "    }\n",
       "\n",
       "    .dataframe thead th {\n",
       "        text-align: right;\n",
       "    }\n",
       "</style>\n",
       "<table border=\"1\" class=\"dataframe\">\n",
       "  <thead>\n",
       "    <tr style=\"text-align: right;\">\n",
       "      <th></th>\n",
       "      <th>camera_id</th>\n",
       "      <th>file_name</th>\n",
       "      <th>id</th>\n",
       "      <th>label_state</th>\n",
       "      <th>label_state_admin</th>\n",
       "      <th>start_time</th>\n",
       "      <th>url_part</th>\n",
       "      <th>url_root</th>\n",
       "      <th>view_id</th>\n",
       "      <th>dataset</th>\n",
       "    </tr>\n",
       "  </thead>\n",
       "  <tbody>\n",
       "    <tr>\n",
       "      <th>0</th>\n",
       "      <td>0</td>\n",
       "      <td>0-7-2019-06-24-3504-1067-4125-1688-180-180-972...</td>\n",
       "      <td>103169</td>\n",
       "      <td>23</td>\n",
       "      <td>-1</td>\n",
       "      <td>2019-06-24 21:10:15</td>\n",
       "      <td>2019-06-24/0-7/0-7-2019-06-24-3504-1067-4125-1...</td>\n",
       "      <td>https://smoke.createlab.org/videos/180/</td>\n",
       "      <td>7</td>\n",
       "      <td>rise</td>\n",
       "    </tr>\n",
       "    <tr>\n",
       "      <th>1</th>\n",
       "      <td>0</td>\n",
       "      <td>0-7-2019-02-03-3544-899-4026-1381-180-180-7424...</td>\n",
       "      <td>22392</td>\n",
       "      <td>23</td>\n",
       "      <td>-1</td>\n",
       "      <td>2019-02-03 18:09:35</td>\n",
       "      <td>2019-02-03/0-7/0-7-2019-02-03-3544-899-4026-13...</td>\n",
       "      <td>https://smoke.createlab.org/videos/180/</td>\n",
       "      <td>7</td>\n",
       "      <td>rise</td>\n",
       "    </tr>\n",
       "    <tr>\n",
       "      <th>2</th>\n",
       "      <td>0</td>\n",
       "      <td>0-2-2018-07-07-5648-1004-6150-1506-180-180-598...</td>\n",
       "      <td>35476</td>\n",
       "      <td>23</td>\n",
       "      <td>-1</td>\n",
       "      <td>2018-07-07 15:20:35</td>\n",
       "      <td>2018-07-07/0-2/0-2-2018-07-07-5648-1004-6150-1...</td>\n",
       "      <td>https://smoke.createlab.org/videos/180/</td>\n",
       "      <td>2</td>\n",
       "      <td>rise</td>\n",
       "    </tr>\n",
       "    <tr>\n",
       "      <th>3</th>\n",
       "      <td>0</td>\n",
       "      <td>0-6-2018-07-07-3981-1084-4484-1587-180-180-385...</td>\n",
       "      <td>36353</td>\n",
       "      <td>23</td>\n",
       "      <td>-1</td>\n",
       "      <td>2018-07-07 12:15:00</td>\n",
       "      <td>2018-07-07/0-6/0-6-2018-07-07-3981-1084-4484-1...</td>\n",
       "      <td>https://smoke.createlab.org/videos/180/</td>\n",
       "      <td>6</td>\n",
       "      <td>rise</td>\n",
       "    </tr>\n",
       "    <tr>\n",
       "      <th>4</th>\n",
       "      <td>0</td>\n",
       "      <td>0-2-2018-09-19-5648-1004-6150-1506-180-180-100...</td>\n",
       "      <td>42767</td>\n",
       "      <td>23</td>\n",
       "      <td>-1</td>\n",
       "      <td>2018-09-19 21:43:05</td>\n",
       "      <td>2018-09-19/0-2/0-2-2018-09-19-5648-1004-6150-1...</td>\n",
       "      <td>https://smoke.createlab.org/videos/180/</td>\n",
       "      <td>2</td>\n",
       "      <td>rise</td>\n",
       "    </tr>\n",
       "    <tr>\n",
       "      <th>...</th>\n",
       "      <td>...</td>\n",
       "      <td>...</td>\n",
       "      <td>...</td>\n",
       "      <td>...</td>\n",
       "      <td>...</td>\n",
       "      <td>...</td>\n",
       "      <td>...</td>\n",
       "      <td>...</td>\n",
       "      <td>...</td>\n",
       "      <td>...</td>\n",
       "    </tr>\n",
       "    <tr>\n",
       "      <th>13438</th>\n",
       "      <td>3</td>\n",
       "      <td>TUZbSqcLVtU-4</td>\n",
       "      <td>700</td>\n",
       "      <td>23</td>\n",
       "      <td>47</td>\n",
       "      <td>2023-06-09 18:51:13</td>\n",
       "      <td>TUZbSqcLVtU</td>\n",
       "      <td>https://ijmondcam.multix.io/videos/</td>\n",
       "      <td>4</td>\n",
       "      <td>ijmond</td>\n",
       "    </tr>\n",
       "    <tr>\n",
       "      <th>13439</th>\n",
       "      <td>4</td>\n",
       "      <td>crAL3CrEt3s-0</td>\n",
       "      <td>172</td>\n",
       "      <td>16</td>\n",
       "      <td>16</td>\n",
       "      <td>2023-04-10 13:19:14</td>\n",
       "      <td>crAL3CrEt3s</td>\n",
       "      <td>https://ijmondcam.multix.io/videos/</td>\n",
       "      <td>0</td>\n",
       "      <td>ijmond</td>\n",
       "    </tr>\n",
       "    <tr>\n",
       "      <th>13440</th>\n",
       "      <td>4</td>\n",
       "      <td>DoNtmf5UBkY-1</td>\n",
       "      <td>381</td>\n",
       "      <td>-1</td>\n",
       "      <td>23</td>\n",
       "      <td>2023-07-08 15:49:13</td>\n",
       "      <td>DoNtmf5UBkY</td>\n",
       "      <td>https://ijmondcam.multix.io/videos/</td>\n",
       "      <td>1</td>\n",
       "      <td>ijmond</td>\n",
       "    </tr>\n",
       "    <tr>\n",
       "      <th>13441</th>\n",
       "      <td>5</td>\n",
       "      <td>ewJnawMTdAU-0</td>\n",
       "      <td>583</td>\n",
       "      <td>-1</td>\n",
       "      <td>16</td>\n",
       "      <td>2023-03-26 16:25:53</td>\n",
       "      <td>ewJnawMTdAU</td>\n",
       "      <td>https://ijmondcam.multix.io/videos/</td>\n",
       "      <td>0</td>\n",
       "      <td>ijmond</td>\n",
       "    </tr>\n",
       "    <tr>\n",
       "      <th>13442</th>\n",
       "      <td>4</td>\n",
       "      <td>vQZz9ePv_vQ-2</td>\n",
       "      <td>50</td>\n",
       "      <td>-1</td>\n",
       "      <td>16</td>\n",
       "      <td>2023-05-13 17:12:06</td>\n",
       "      <td>vQZz9ePv_vQ</td>\n",
       "      <td>https://ijmondcam.multix.io/videos/</td>\n",
       "      <td>2</td>\n",
       "      <td>ijmond</td>\n",
       "    </tr>\n",
       "  </tbody>\n",
       "</table>\n",
       "<p>13443 rows × 10 columns</p>\n",
       "</div>"
      ],
      "text/plain": [
       "       camera_id                                          file_name      id  \\\n",
       "0              0  0-7-2019-06-24-3504-1067-4125-1688-180-180-972...  103169   \n",
       "1              0  0-7-2019-02-03-3544-899-4026-1381-180-180-7424...   22392   \n",
       "2              0  0-2-2018-07-07-5648-1004-6150-1506-180-180-598...   35476   \n",
       "3              0  0-6-2018-07-07-3981-1084-4484-1587-180-180-385...   36353   \n",
       "4              0  0-2-2018-09-19-5648-1004-6150-1506-180-180-100...   42767   \n",
       "...          ...                                                ...     ...   \n",
       "13438          3                                      TUZbSqcLVtU-4     700   \n",
       "13439          4                                      crAL3CrEt3s-0     172   \n",
       "13440          4                                      DoNtmf5UBkY-1     381   \n",
       "13441          5                                      ewJnawMTdAU-0     583   \n",
       "13442          4                                      vQZz9ePv_vQ-2      50   \n",
       "\n",
       "       label_state  label_state_admin          start_time  \\\n",
       "0               23                 -1 2019-06-24 21:10:15   \n",
       "1               23                 -1 2019-02-03 18:09:35   \n",
       "2               23                 -1 2018-07-07 15:20:35   \n",
       "3               23                 -1 2018-07-07 12:15:00   \n",
       "4               23                 -1 2018-09-19 21:43:05   \n",
       "...            ...                ...                 ...   \n",
       "13438           23                 47 2023-06-09 18:51:13   \n",
       "13439           16                 16 2023-04-10 13:19:14   \n",
       "13440           -1                 23 2023-07-08 15:49:13   \n",
       "13441           -1                 16 2023-03-26 16:25:53   \n",
       "13442           -1                 16 2023-05-13 17:12:06   \n",
       "\n",
       "                                                url_part  \\\n",
       "0      2019-06-24/0-7/0-7-2019-06-24-3504-1067-4125-1...   \n",
       "1      2019-02-03/0-7/0-7-2019-02-03-3544-899-4026-13...   \n",
       "2      2018-07-07/0-2/0-2-2018-07-07-5648-1004-6150-1...   \n",
       "3      2018-07-07/0-6/0-6-2018-07-07-3981-1084-4484-1...   \n",
       "4      2018-09-19/0-2/0-2-2018-09-19-5648-1004-6150-1...   \n",
       "...                                                  ...   \n",
       "13438                                        TUZbSqcLVtU   \n",
       "13439                                        crAL3CrEt3s   \n",
       "13440                                        DoNtmf5UBkY   \n",
       "13441                                        ewJnawMTdAU   \n",
       "13442                                        vQZz9ePv_vQ   \n",
       "\n",
       "                                      url_root  view_id dataset  \n",
       "0      https://smoke.createlab.org/videos/180/        7    rise  \n",
       "1      https://smoke.createlab.org/videos/180/        7    rise  \n",
       "2      https://smoke.createlab.org/videos/180/        2    rise  \n",
       "3      https://smoke.createlab.org/videos/180/        6    rise  \n",
       "4      https://smoke.createlab.org/videos/180/        2    rise  \n",
       "...                                        ...      ...     ...  \n",
       "13438      https://ijmondcam.multix.io/videos/        4  ijmond  \n",
       "13439      https://ijmondcam.multix.io/videos/        0  ijmond  \n",
       "13440      https://ijmondcam.multix.io/videos/        1  ijmond  \n",
       "13441      https://ijmondcam.multix.io/videos/        0  ijmond  \n",
       "13442      https://ijmondcam.multix.io/videos/        2  ijmond  \n",
       "\n",
       "[13443 rows x 10 columns]"
      ]
     },
     "execution_count": 6,
     "metadata": {},
     "output_type": "execute_result"
    }
   ],
   "source": [
    "#check merged dataset\n",
    "pd.read_json(\"../data/datasets/merged_dataset.json\")"
   ]
  },
  {
   "cell_type": "code",
   "execution_count": 9,
   "metadata": {},
   "outputs": [
    {
     "data": {
      "text/plain": [
       "134"
      ]
     },
     "execution_count": 9,
     "metadata": {},
     "output_type": "execute_result"
    }
   ],
   "source": [
    "#check number of unique dates\n",
    "merged_dataset['date'] = merged_dataset['start_time'].dt.date\n",
    "len(merged_dataset['date'].unique())"
   ]
  },
  {
   "cell_type": "code",
   "execution_count": 10,
   "metadata": {},
   "outputs": [
    {
     "data": {
      "text/plain": [
       "33"
      ]
     },
     "execution_count": 10,
     "metadata": {},
     "output_type": "execute_result"
    }
   ],
   "source": [
    "#num of unique dates in rise set\n",
    "rise_df['date'] = rise_df['start_time'].dt.date\n",
    "len(rise_df['date'].unique())"
   ]
  },
  {
   "cell_type": "code",
   "execution_count": 11,
   "metadata": {},
   "outputs": [
    {
     "data": {
      "text/plain": [
       "101"
      ]
     },
     "execution_count": 11,
     "metadata": {},
     "output_type": "execute_result"
    }
   ],
   "source": [
    "#num of unique dates in ijmond set\n",
    "ijmond_df['date'] = ijmond_df['start_time'].dt.date\n",
    "len(ijmond_df['date'].unique())"
   ]
  },
  {
   "cell_type": "code",
   "execution_count": 12,
   "metadata": {},
   "outputs": [
    {
     "name": "stdout",
     "output_type": "stream",
     "text": [
      "train: 543.12\n",
      "val: 113.88000000000001\n",
      "test: 219.0\n"
     ]
    }
   ],
   "source": [
    "#get number of rows in a split by fraction\n",
    "print(\"train:\",(len(ijmond_df)-3)*0.62)\n",
    "print(\"val:\",(len(ijmond_df)-3)*0.13)\n",
    "print(\"test:\",(len(ijmond_df)-3)*0.25)"
   ]
  },
  {
   "cell_type": "code",
   "execution_count": 13,
   "metadata": {},
   "outputs": [
    {
     "data": {
      "text/plain": [
       "0      4-3\n",
       "1      4-2\n",
       "2      3-4\n",
       "3      3-4\n",
       "4      4-2\n",
       "      ... \n",
       "874    3-4\n",
       "875    4-0\n",
       "876    4-1\n",
       "877    5-0\n",
       "878    4-2\n",
       "Name: camera_view, Length: 879, dtype: object"
      ]
     },
     "execution_count": 13,
     "metadata": {},
     "output_type": "execute_result"
    }
   ],
   "source": [
    "#create camera view variable to check number of videos per view\n",
    "ijmond_df['camera_view'] = ijmond_df['camera_id'].astype(str) + '-' +  ijmond_df['view_id'].astype(str)\n",
    "ijmond_df['camera_view']"
   ]
  },
  {
   "cell_type": "code",
   "execution_count": 14,
   "metadata": {},
   "outputs": [
    {
     "data": {
      "text/html": [
       "<div>\n",
       "<style scoped>\n",
       "    .dataframe tbody tr th:only-of-type {\n",
       "        vertical-align: middle;\n",
       "    }\n",
       "\n",
       "    .dataframe tbody tr th {\n",
       "        vertical-align: top;\n",
       "    }\n",
       "\n",
       "    .dataframe thead th {\n",
       "        text-align: right;\n",
       "    }\n",
       "</style>\n",
       "<table border=\"1\" class=\"dataframe\">\n",
       "  <thead>\n",
       "    <tr style=\"text-align: right;\">\n",
       "      <th></th>\n",
       "      <th>camera_view</th>\n",
       "    </tr>\n",
       "  </thead>\n",
       "  <tbody>\n",
       "    <tr>\n",
       "      <th>3-0</th>\n",
       "      <td>37</td>\n",
       "    </tr>\n",
       "    <tr>\n",
       "      <th>3-1</th>\n",
       "      <td>37</td>\n",
       "    </tr>\n",
       "    <tr>\n",
       "      <th>3-2</th>\n",
       "      <td>37</td>\n",
       "    </tr>\n",
       "    <tr>\n",
       "      <th>3-3</th>\n",
       "      <td>37</td>\n",
       "    </tr>\n",
       "    <tr>\n",
       "      <th>3-4</th>\n",
       "      <td>37</td>\n",
       "    </tr>\n",
       "    <tr>\n",
       "      <th>4-0</th>\n",
       "      <td>99</td>\n",
       "    </tr>\n",
       "    <tr>\n",
       "      <th>4-1</th>\n",
       "      <td>99</td>\n",
       "    </tr>\n",
       "    <tr>\n",
       "      <th>4-2</th>\n",
       "      <td>99</td>\n",
       "    </tr>\n",
       "    <tr>\n",
       "      <th>4-3</th>\n",
       "      <td>99</td>\n",
       "    </tr>\n",
       "    <tr>\n",
       "      <th>5-0</th>\n",
       "      <td>149</td>\n",
       "    </tr>\n",
       "    <tr>\n",
       "      <th>5-1</th>\n",
       "      <td>149</td>\n",
       "    </tr>\n",
       "  </tbody>\n",
       "</table>\n",
       "</div>"
      ],
      "text/plain": [
       "     camera_view\n",
       "3-0           37\n",
       "3-1           37\n",
       "3-2           37\n",
       "3-3           37\n",
       "3-4           37\n",
       "4-0           99\n",
       "4-1           99\n",
       "4-2           99\n",
       "4-3           99\n",
       "5-0          149\n",
       "5-1          149"
      ]
     },
     "execution_count": 14,
     "metadata": {},
     "output_type": "execute_result"
    }
   ],
   "source": [
    "#check number of videos per view\n",
    "view_counts = ijmond_df['camera_view'].value_counts()\n",
    "\n",
    "# Convert the Series to a DataFrame\n",
    "view_counts_df = pd.DataFrame(view_counts)\n",
    "\n",
    "view_counts_df = view_counts_df.sort_index()\n",
    "\n",
    "view_counts_df"
   ]
  },
  {
   "cell_type": "markdown",
   "metadata": {},
   "source": [
    "Check created splits:"
   ]
  },
  {
   "cell_type": "code",
   "execution_count": 7,
   "metadata": {},
   "outputs": [],
   "source": [
    "train1 = pd.read_json(\"../data/split/metadata_train_split_0_by_camera.json\")\n",
    "train2 = pd.read_json(\"../data/split/metadata_train_split_1_by_camera.json\")\n",
    "train3 = pd.read_json(\"../data/split/metadata_train_split_2_by_camera.json\")\n",
    "train4 = pd.read_json(\"../data/split/metadata_train_split_3_by_camera.json\")\n",
    "train5 = pd.read_json(\"../data/split/metadata_train_split_4_by_camera.json\")\n",
    "train6 = pd.read_json(\"../data/split/metadata_train_split_by_date.json\")"
   ]
  },
  {
   "cell_type": "code",
   "execution_count": 8,
   "metadata": {},
   "outputs": [
    {
     "name": "stdout",
     "output_type": "stream",
     "text": [
      "train 1: 8234\n",
      "train 2: 8325\n",
      "train 3: 8243\n",
      "train 4: 8360\n",
      "train 5: 8290\n",
      "train 6: 8199\n"
     ]
    }
   ],
   "source": [
    "print(\"train 1:\", len(train1))\n",
    "print(\"train 2:\", len(train2))\n",
    "print(\"train 3:\", len(train3))\n",
    "print(\"train 4:\", len(train4))\n",
    "print(\"train 5:\", len(train5))\n",
    "print(\"train 6:\", len(train6))"
   ]
  },
  {
   "cell_type": "code",
   "execution_count": 10,
   "metadata": {},
   "outputs": [],
   "source": [
    "val1 = pd.read_json(\"../data/split/metadata_validation_split_0_by_camera.json\")\n",
    "val2 = pd.read_json(\"../data/split/metadata_validation_split_1_by_camera.json\")\n",
    "val3 = pd.read_json(\"../data/split/metadata_validation_split_2_by_camera.json\")\n",
    "val4 = pd.read_json(\"../data/split/metadata_validation_split_3_by_camera.json\")\n",
    "val5 = pd.read_json(\"../data/split/metadata_validation_split_4_by_camera.json\")\n",
    "val6 = pd.read_json(\"../data/split/metadata_validation_split_by_date.json\")"
   ]
  },
  {
   "cell_type": "code",
   "execution_count": 12,
   "metadata": {},
   "outputs": [
    {
     "name": "stdout",
     "output_type": "stream",
     "text": [
      "val 1: 1756\n",
      "val 2: 1677\n",
      "val 3: 1670\n",
      "val 4: 1577\n",
      "val 5: 1744\n",
      "val 6: 1881\n"
     ]
    }
   ],
   "source": [
    "print(\"val 1:\", len(val1))\n",
    "print(\"val 2:\", len(val2))\n",
    "print(\"val 3:\", len(val3))\n",
    "print(\"val 4:\", len(val4))\n",
    "print(\"val 5:\", len(val5))\n",
    "print(\"val 6:\", len(val6))"
   ]
  },
  {
   "cell_type": "code",
   "execution_count": 13,
   "metadata": {},
   "outputs": [],
   "source": [
    "test1 = pd.read_json(\"../data/split/metadata_test_split_0_by_camera.json\")\n",
    "test2 = pd.read_json(\"../data/split/metadata_test_split_1_by_camera.json\")\n",
    "test3 = pd.read_json(\"../data/split/metadata_test_split_2_by_camera.json\")\n",
    "test4 = pd.read_json(\"../data/split/metadata_test_split_3_by_camera.json\")\n",
    "test5 = pd.read_json(\"../data/split/metadata_test_split_4_by_camera.json\")\n",
    "test6 = pd.read_json(\"../data/split/metadata_test_split_by_date.json\")"
   ]
  },
  {
   "cell_type": "code",
   "execution_count": 14,
   "metadata": {},
   "outputs": [
    {
     "name": "stdout",
     "output_type": "stream",
     "text": [
      "test 1: 3453\n",
      "test 2: 3441\n",
      "test 3: 3530\n",
      "test 4: 3506\n",
      "test 5: 3409\n",
      "test 6: 3360\n"
     ]
    }
   ],
   "source": [
    "print(\"test 1:\", len(test1))\n",
    "print(\"test 2:\", len(test2))\n",
    "print(\"test 3:\", len(test3))\n",
    "print(\"test 4:\", len(test4))\n",
    "print(\"test 5:\", len(test5))\n",
    "print(\"test 6:\", len(test6))"
   ]
  },
  {
   "cell_type": "markdown",
   "metadata": {},
   "source": [
    "Check date split on ijmond:"
   ]
  },
  {
   "cell_type": "code",
   "execution_count": 16,
   "metadata": {},
   "outputs": [
    {
     "data": {
      "text/plain": [
       "2018-06-11    1178\n",
       "2019-01-17     784\n",
       "2018-12-13     767\n",
       "2019-01-18     742\n",
       "2019-01-11     715\n",
       "2018-06-14     459\n",
       "2018-07-07     432\n",
       "2018-08-06     432\n",
       "2018-09-19     428\n",
       "2018-11-10     369\n",
       "2018-10-07     353\n",
       "2018-12-11     326\n",
       "2018-06-12     254\n",
       "2018-12-28     143\n",
       "2018-08-24      65\n",
       "2018-05-11      57\n",
       "2019-01-22      54\n",
       "2018-09-03      35\n",
       "2018-11-12      34\n",
       "2018-06-15      25\n",
       "2018-06-13      13\n",
       "Name: start_time, dtype: int64"
      ]
     },
     "execution_count": 16,
     "metadata": {},
     "output_type": "execute_result"
    }
   ],
   "source": [
    "hm = train6[train6['dataset']=='rise']\n",
    "hm['start_time'].dt.date.value_counts()"
   ]
  },
  {
   "cell_type": "code",
   "execution_count": 17,
   "metadata": {},
   "outputs": [
    {
     "data": {
      "text/plain": [
       "2019-02-02    991\n",
       "2019-01-22    751\n",
       "2019-02-03     17\n",
       "Name: start_time, dtype: int64"
      ]
     },
     "execution_count": 17,
     "metadata": {},
     "output_type": "execute_result"
    }
   ],
   "source": [
    "hm = val6[val6['dataset']=='rise']\n",
    "hm['start_time'].dt.date.value_counts()"
   ]
  },
  {
   "cell_type": "code",
   "execution_count": 18,
   "metadata": {},
   "outputs": [
    {
     "data": {
      "text/plain": [
       "2019-02-04    1006\n",
       "2019-02-03     996\n",
       "2019-04-09     504\n",
       "2019-03-14     364\n",
       "2019-05-15      50\n",
       "2019-06-24      47\n",
       "2019-08-11      46\n",
       "2019-07-26      43\n",
       "2019-04-01      42\n",
       "2019-04-07      40\n",
       "2019-06-25       3\n",
       "Name: start_time, dtype: int64"
      ]
     },
     "execution_count": 18,
     "metadata": {},
     "output_type": "execute_result"
    }
   ],
   "source": [
    "hm = test6[test6['dataset']=='rise']\n",
    "hm['start_time'].dt.date.value_counts()"
   ]
  },
  {
   "cell_type": "code",
   "execution_count": 19,
   "metadata": {},
   "outputs": [
    {
     "data": {
      "text/plain": [
       "Timestamp('2019-02-03 13:09:10')"
      ]
     },
     "execution_count": 19,
     "metadata": {},
     "output_type": "execute_result"
    }
   ],
   "source": [
    "min(test6['start_time'])"
   ]
  },
  {
   "cell_type": "code",
   "execution_count": 20,
   "metadata": {},
   "outputs": [
    {
     "data": {
      "text/plain": [
       "Timestamp('2023-08-09 19:36:53')"
      ]
     },
     "execution_count": 20,
     "metadata": {},
     "output_type": "execute_result"
    }
   ],
   "source": [
    "max(test6[\"start_time\"])"
   ]
  },
  {
   "cell_type": "code",
   "execution_count": 21,
   "metadata": {},
   "outputs": [
    {
     "data": {
      "text/plain": [
       "Timestamp('2019-01-22 13:30:15')"
      ]
     },
     "execution_count": 21,
     "metadata": {},
     "output_type": "execute_result"
    }
   ],
   "source": [
    "min(val6['start_time'])"
   ]
  },
  {
   "cell_type": "code",
   "execution_count": 22,
   "metadata": {},
   "outputs": [
    {
     "data": {
      "text/plain": [
       "Timestamp('2023-06-20 18:55:09')"
      ]
     },
     "execution_count": 22,
     "metadata": {},
     "output_type": "execute_result"
    }
   ],
   "source": [
    "max(val6[\"start_time\"])"
   ]
  },
  {
   "cell_type": "code",
   "execution_count": 23,
   "metadata": {},
   "outputs": [
    {
     "data": {
      "text/plain": [
       "Timestamp('2018-05-11 10:21:10')"
      ]
     },
     "execution_count": 23,
     "metadata": {},
     "output_type": "execute_result"
    }
   ],
   "source": [
    "min(train6[\"start_time\"])"
   ]
  },
  {
   "cell_type": "code",
   "execution_count": 24,
   "metadata": {},
   "outputs": [
    {
     "data": {
      "text/plain": [
       "Timestamp('2023-06-17 10:40:50')"
      ]
     },
     "execution_count": 24,
     "metadata": {},
     "output_type": "execute_result"
    }
   ],
   "source": [
    "max(train6[\"start_time\"])"
   ]
  },
  {
   "cell_type": "markdown",
   "metadata": {},
   "source": [
    "Drop bad videos from ijmond df "
   ]
  },
  {
   "cell_type": "code",
   "execution_count": 28,
   "metadata": {},
   "outputs": [],
   "source": [
    "#drop bad videos\n",
    "ijmond_df = ijmond_df.drop(ijmond_df[ijmond_df['file_name'] == 'bu7USw70eXs-1'].index)\n",
    "ijmond_df = ijmond_df.drop(ijmond_df[ijmond_df['file_name'] == '-A0yDQ9Tt70-0'].index)\n",
    "ijmond_df = ijmond_df.drop(ijmond_df[ijmond_df['file_name'] == 'yp8tlmwD0OI-0'].index)"
   ]
  },
  {
   "cell_type": "code",
   "execution_count": 29,
   "metadata": {},
   "outputs": [
    {
     "data": {
      "text/html": [
       "<div>\n",
       "<style scoped>\n",
       "    .dataframe tbody tr th:only-of-type {\n",
       "        vertical-align: middle;\n",
       "    }\n",
       "\n",
       "    .dataframe tbody tr th {\n",
       "        vertical-align: top;\n",
       "    }\n",
       "\n",
       "    .dataframe thead th {\n",
       "        text-align: right;\n",
       "    }\n",
       "</style>\n",
       "<table border=\"1\" class=\"dataframe\">\n",
       "  <thead>\n",
       "    <tr style=\"text-align: right;\">\n",
       "      <th></th>\n",
       "      <th>camera_id</th>\n",
       "      <th>file_name</th>\n",
       "      <th>id</th>\n",
       "      <th>label_state</th>\n",
       "      <th>label_state_admin</th>\n",
       "      <th>start_time</th>\n",
       "      <th>url_part</th>\n",
       "      <th>url_root</th>\n",
       "      <th>view_id</th>\n",
       "      <th>dataset</th>\n",
       "    </tr>\n",
       "  </thead>\n",
       "  <tbody>\n",
       "    <tr>\n",
       "      <th>0</th>\n",
       "      <td>1</td>\n",
       "      <td>A9W8G55JucU-3</td>\n",
       "      <td>75</td>\n",
       "      <td>23</td>\n",
       "      <td>23</td>\n",
       "      <td>2023-03-24 17:47:46</td>\n",
       "      <td>A9W8G55JucU</td>\n",
       "      <td>https://ijmondcam.multix.io/videos/</td>\n",
       "      <td>3</td>\n",
       "      <td>ijmond</td>\n",
       "    </tr>\n",
       "    <tr>\n",
       "      <th>1</th>\n",
       "      <td>1</td>\n",
       "      <td>23x-vGYMbec-2</td>\n",
       "      <td>6</td>\n",
       "      <td>16</td>\n",
       "      <td>32</td>\n",
       "      <td>2023-04-12 08:42:50</td>\n",
       "      <td>23x-vGYMbec</td>\n",
       "      <td>https://ijmondcam.multix.io/videos/</td>\n",
       "      <td>2</td>\n",
       "      <td>ijmond</td>\n",
       "    </tr>\n",
       "    <tr>\n",
       "      <th>2</th>\n",
       "      <td>0</td>\n",
       "      <td>mRjzTfzMS1I-4</td>\n",
       "      <td>843</td>\n",
       "      <td>16</td>\n",
       "      <td>16</td>\n",
       "      <td>2023-07-18 16:56:58</td>\n",
       "      <td>mRjzTfzMS1I</td>\n",
       "      <td>https://ijmondcam.multix.io/videos/</td>\n",
       "      <td>4</td>\n",
       "      <td>ijmond</td>\n",
       "    </tr>\n",
       "    <tr>\n",
       "      <th>3</th>\n",
       "      <td>0</td>\n",
       "      <td>aFhpESIPnXg-4</td>\n",
       "      <td>787</td>\n",
       "      <td>16</td>\n",
       "      <td>16</td>\n",
       "      <td>2023-06-17 08:53:21</td>\n",
       "      <td>aFhpESIPnXg</td>\n",
       "      <td>https://ijmondcam.multix.io/videos/</td>\n",
       "      <td>4</td>\n",
       "      <td>ijmond</td>\n",
       "    </tr>\n",
       "    <tr>\n",
       "      <th>4</th>\n",
       "      <td>1</td>\n",
       "      <td>Qv9-nS5BloI-2</td>\n",
       "      <td>81</td>\n",
       "      <td>23</td>\n",
       "      <td>47</td>\n",
       "      <td>2023-06-07 12:13:22</td>\n",
       "      <td>Qv9-nS5BloI</td>\n",
       "      <td>https://ijmondcam.multix.io/videos/</td>\n",
       "      <td>2</td>\n",
       "      <td>ijmond</td>\n",
       "    </tr>\n",
       "  </tbody>\n",
       "</table>\n",
       "</div>"
      ],
      "text/plain": [
       "   camera_id      file_name   id  label_state  label_state_admin  \\\n",
       "0          1  A9W8G55JucU-3   75           23                 23   \n",
       "1          1  23x-vGYMbec-2    6           16                 32   \n",
       "2          0  mRjzTfzMS1I-4  843           16                 16   \n",
       "3          0  aFhpESIPnXg-4  787           16                 16   \n",
       "4          1  Qv9-nS5BloI-2   81           23                 47   \n",
       "\n",
       "           start_time     url_part                             url_root  \\\n",
       "0 2023-03-24 17:47:46  A9W8G55JucU  https://ijmondcam.multix.io/videos/   \n",
       "1 2023-04-12 08:42:50  23x-vGYMbec  https://ijmondcam.multix.io/videos/   \n",
       "2 2023-07-18 16:56:58  mRjzTfzMS1I  https://ijmondcam.multix.io/videos/   \n",
       "3 2023-06-17 08:53:21  aFhpESIPnXg  https://ijmondcam.multix.io/videos/   \n",
       "4 2023-06-07 12:13:22  Qv9-nS5BloI  https://ijmondcam.multix.io/videos/   \n",
       "\n",
       "   view_id dataset  \n",
       "0        3  ijmond  \n",
       "1        2  ijmond  \n",
       "2        4  ijmond  \n",
       "3        4  ijmond  \n",
       "4        2  ijmond  "
      ]
     },
     "execution_count": 29,
     "metadata": {},
     "output_type": "execute_result"
    }
   ],
   "source": [
    "ijmond_df[\"camera_id\"] = ijmond_df[\"camera_id\"] - 3\n",
    "ijmond_df = ijmond_df.drop(columns=['date', 'camera_view'])\n",
    "ijmond_df.head()"
   ]
  },
  {
   "cell_type": "markdown",
   "metadata": {},
   "source": [
    "Save ijmond dataset without the bad videos"
   ]
  },
  {
   "cell_type": "code",
   "execution_count": 30,
   "metadata": {},
   "outputs": [],
   "source": [
    "#save preprocessed ijmond set\n",
    "ijmond_df.to_json(\"../data/datasets/ijmond_dataset.json\", orient='records')"
   ]
  },
  {
   "cell_type": "code",
   "execution_count": 26,
   "metadata": {},
   "outputs": [],
   "source": [
    "ijmond_df = pd.read_json('../data/datasets/ijmond_dataset.json')"
   ]
  },
  {
   "cell_type": "code",
   "execution_count": 32,
   "metadata": {},
   "outputs": [
    {
     "data": {
      "text/html": [
       "<div>\n",
       "<style scoped>\n",
       "    .dataframe tbody tr th:only-of-type {\n",
       "        vertical-align: middle;\n",
       "    }\n",
       "\n",
       "    .dataframe tbody tr th {\n",
       "        vertical-align: top;\n",
       "    }\n",
       "\n",
       "    .dataframe thead th {\n",
       "        text-align: right;\n",
       "    }\n",
       "</style>\n",
       "<table border=\"1\" class=\"dataframe\">\n",
       "  <thead>\n",
       "    <tr style=\"text-align: right;\">\n",
       "      <th></th>\n",
       "      <th>camera_id</th>\n",
       "      <th>file_name</th>\n",
       "      <th>id</th>\n",
       "      <th>label_state</th>\n",
       "      <th>label_state_admin</th>\n",
       "      <th>start_time</th>\n",
       "      <th>url_part</th>\n",
       "      <th>url_root</th>\n",
       "      <th>view_id</th>\n",
       "      <th>dataset</th>\n",
       "    </tr>\n",
       "  </thead>\n",
       "  <tbody>\n",
       "    <tr>\n",
       "      <th>0</th>\n",
       "      <td>1</td>\n",
       "      <td>A9W8G55JucU-3</td>\n",
       "      <td>75</td>\n",
       "      <td>23</td>\n",
       "      <td>23</td>\n",
       "      <td>2023-03-24 17:47:46</td>\n",
       "      <td>A9W8G55JucU</td>\n",
       "      <td>https://ijmondcam.multix.io/videos/</td>\n",
       "      <td>3</td>\n",
       "      <td>ijmond</td>\n",
       "    </tr>\n",
       "    <tr>\n",
       "      <th>1</th>\n",
       "      <td>1</td>\n",
       "      <td>23x-vGYMbec-2</td>\n",
       "      <td>6</td>\n",
       "      <td>16</td>\n",
       "      <td>32</td>\n",
       "      <td>2023-04-12 08:42:50</td>\n",
       "      <td>23x-vGYMbec</td>\n",
       "      <td>https://ijmondcam.multix.io/videos/</td>\n",
       "      <td>2</td>\n",
       "      <td>ijmond</td>\n",
       "    </tr>\n",
       "    <tr>\n",
       "      <th>2</th>\n",
       "      <td>0</td>\n",
       "      <td>mRjzTfzMS1I-4</td>\n",
       "      <td>843</td>\n",
       "      <td>16</td>\n",
       "      <td>16</td>\n",
       "      <td>2023-07-18 16:56:58</td>\n",
       "      <td>mRjzTfzMS1I</td>\n",
       "      <td>https://ijmondcam.multix.io/videos/</td>\n",
       "      <td>4</td>\n",
       "      <td>ijmond</td>\n",
       "    </tr>\n",
       "    <tr>\n",
       "      <th>3</th>\n",
       "      <td>0</td>\n",
       "      <td>aFhpESIPnXg-4</td>\n",
       "      <td>787</td>\n",
       "      <td>16</td>\n",
       "      <td>16</td>\n",
       "      <td>2023-06-17 08:53:21</td>\n",
       "      <td>aFhpESIPnXg</td>\n",
       "      <td>https://ijmondcam.multix.io/videos/</td>\n",
       "      <td>4</td>\n",
       "      <td>ijmond</td>\n",
       "    </tr>\n",
       "    <tr>\n",
       "      <th>4</th>\n",
       "      <td>1</td>\n",
       "      <td>Qv9-nS5BloI-2</td>\n",
       "      <td>81</td>\n",
       "      <td>23</td>\n",
       "      <td>47</td>\n",
       "      <td>2023-06-07 12:13:22</td>\n",
       "      <td>Qv9-nS5BloI</td>\n",
       "      <td>https://ijmondcam.multix.io/videos/</td>\n",
       "      <td>2</td>\n",
       "      <td>ijmond</td>\n",
       "    </tr>\n",
       "    <tr>\n",
       "      <th>...</th>\n",
       "      <td>...</td>\n",
       "      <td>...</td>\n",
       "      <td>...</td>\n",
       "      <td>...</td>\n",
       "      <td>...</td>\n",
       "      <td>...</td>\n",
       "      <td>...</td>\n",
       "      <td>...</td>\n",
       "      <td>...</td>\n",
       "      <td>...</td>\n",
       "    </tr>\n",
       "    <tr>\n",
       "      <th>871</th>\n",
       "      <td>0</td>\n",
       "      <td>TUZbSqcLVtU-4</td>\n",
       "      <td>700</td>\n",
       "      <td>23</td>\n",
       "      <td>47</td>\n",
       "      <td>2023-06-09 18:51:13</td>\n",
       "      <td>TUZbSqcLVtU</td>\n",
       "      <td>https://ijmondcam.multix.io/videos/</td>\n",
       "      <td>4</td>\n",
       "      <td>ijmond</td>\n",
       "    </tr>\n",
       "    <tr>\n",
       "      <th>872</th>\n",
       "      <td>1</td>\n",
       "      <td>crAL3CrEt3s-0</td>\n",
       "      <td>172</td>\n",
       "      <td>16</td>\n",
       "      <td>16</td>\n",
       "      <td>2023-04-10 13:19:14</td>\n",
       "      <td>crAL3CrEt3s</td>\n",
       "      <td>https://ijmondcam.multix.io/videos/</td>\n",
       "      <td>0</td>\n",
       "      <td>ijmond</td>\n",
       "    </tr>\n",
       "    <tr>\n",
       "      <th>873</th>\n",
       "      <td>1</td>\n",
       "      <td>DoNtmf5UBkY-1</td>\n",
       "      <td>381</td>\n",
       "      <td>-1</td>\n",
       "      <td>23</td>\n",
       "      <td>2023-07-08 15:49:13</td>\n",
       "      <td>DoNtmf5UBkY</td>\n",
       "      <td>https://ijmondcam.multix.io/videos/</td>\n",
       "      <td>1</td>\n",
       "      <td>ijmond</td>\n",
       "    </tr>\n",
       "    <tr>\n",
       "      <th>874</th>\n",
       "      <td>2</td>\n",
       "      <td>ewJnawMTdAU-0</td>\n",
       "      <td>583</td>\n",
       "      <td>-1</td>\n",
       "      <td>16</td>\n",
       "      <td>2023-03-26 16:25:53</td>\n",
       "      <td>ewJnawMTdAU</td>\n",
       "      <td>https://ijmondcam.multix.io/videos/</td>\n",
       "      <td>0</td>\n",
       "      <td>ijmond</td>\n",
       "    </tr>\n",
       "    <tr>\n",
       "      <th>875</th>\n",
       "      <td>1</td>\n",
       "      <td>vQZz9ePv_vQ-2</td>\n",
       "      <td>50</td>\n",
       "      <td>-1</td>\n",
       "      <td>16</td>\n",
       "      <td>2023-05-13 17:12:06</td>\n",
       "      <td>vQZz9ePv_vQ</td>\n",
       "      <td>https://ijmondcam.multix.io/videos/</td>\n",
       "      <td>2</td>\n",
       "      <td>ijmond</td>\n",
       "    </tr>\n",
       "  </tbody>\n",
       "</table>\n",
       "<p>876 rows × 10 columns</p>\n",
       "</div>"
      ],
      "text/plain": [
       "     camera_id      file_name   id  label_state  label_state_admin  \\\n",
       "0            1  A9W8G55JucU-3   75           23                 23   \n",
       "1            1  23x-vGYMbec-2    6           16                 32   \n",
       "2            0  mRjzTfzMS1I-4  843           16                 16   \n",
       "3            0  aFhpESIPnXg-4  787           16                 16   \n",
       "4            1  Qv9-nS5BloI-2   81           23                 47   \n",
       "..         ...            ...  ...          ...                ...   \n",
       "871          0  TUZbSqcLVtU-4  700           23                 47   \n",
       "872          1  crAL3CrEt3s-0  172           16                 16   \n",
       "873          1  DoNtmf5UBkY-1  381           -1                 23   \n",
       "874          2  ewJnawMTdAU-0  583           -1                 16   \n",
       "875          1  vQZz9ePv_vQ-2   50           -1                 16   \n",
       "\n",
       "             start_time     url_part                             url_root  \\\n",
       "0   2023-03-24 17:47:46  A9W8G55JucU  https://ijmondcam.multix.io/videos/   \n",
       "1   2023-04-12 08:42:50  23x-vGYMbec  https://ijmondcam.multix.io/videos/   \n",
       "2   2023-07-18 16:56:58  mRjzTfzMS1I  https://ijmondcam.multix.io/videos/   \n",
       "3   2023-06-17 08:53:21  aFhpESIPnXg  https://ijmondcam.multix.io/videos/   \n",
       "4   2023-06-07 12:13:22  Qv9-nS5BloI  https://ijmondcam.multix.io/videos/   \n",
       "..                  ...          ...                                  ...   \n",
       "871 2023-06-09 18:51:13  TUZbSqcLVtU  https://ijmondcam.multix.io/videos/   \n",
       "872 2023-04-10 13:19:14  crAL3CrEt3s  https://ijmondcam.multix.io/videos/   \n",
       "873 2023-07-08 15:49:13  DoNtmf5UBkY  https://ijmondcam.multix.io/videos/   \n",
       "874 2023-03-26 16:25:53  ewJnawMTdAU  https://ijmondcam.multix.io/videos/   \n",
       "875 2023-05-13 17:12:06  vQZz9ePv_vQ  https://ijmondcam.multix.io/videos/   \n",
       "\n",
       "     view_id dataset  \n",
       "0          3  ijmond  \n",
       "1          2  ijmond  \n",
       "2          4  ijmond  \n",
       "3          4  ijmond  \n",
       "4          2  ijmond  \n",
       "..       ...     ...  \n",
       "871        4  ijmond  \n",
       "872        0  ijmond  \n",
       "873        1  ijmond  \n",
       "874        0  ijmond  \n",
       "875        2  ijmond  \n",
       "\n",
       "[876 rows x 10 columns]"
      ]
     },
     "execution_count": 32,
     "metadata": {},
     "output_type": "execute_result"
    }
   ],
   "source": [
    "ijmond_df"
   ]
  }
 ],
 "metadata": {
  "kernelspec": {
   "display_name": "base",
   "language": "python",
   "name": "python3"
  },
  "language_info": {
   "codemirror_mode": {
    "name": "ipython",
    "version": 3
   },
   "file_extension": ".py",
   "mimetype": "text/x-python",
   "name": "python",
   "nbconvert_exporter": "python",
   "pygments_lexer": "ipython3",
   "version": "3.11.4"
  }
 },
 "nbformat": 4,
 "nbformat_minor": 2
}
