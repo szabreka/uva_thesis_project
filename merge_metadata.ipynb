{
 "cells": [
  {
   "cell_type": "code",
   "execution_count": 104,
   "metadata": {},
   "outputs": [],
   "source": [
    "import pandas as pd\n",
    "import seaborn as sns\n",
    "import matplotlib as plt"
   ]
  },
  {
   "cell_type": "code",
   "execution_count": 105,
   "metadata": {},
   "outputs": [],
   "source": [
    "ijmond_df = pd.read_json('data/metadata_ijmond_jan_22_2024.json')"
   ]
  },
  {
   "cell_type": "code",
   "execution_count": 106,
   "metadata": {},
   "outputs": [],
   "source": [
    "rise_df = pd.read_json('data/metadata_02242020.json')"
   ]
  },
  {
   "cell_type": "code",
   "execution_count": 107,
   "metadata": {},
   "outputs": [],
   "source": [
    "ijmond_df[\"camera_id\"] = ijmond_df[\"camera_id\"] + 3"
   ]
  },
  {
   "cell_type": "code",
   "execution_count": 108,
   "metadata": {},
   "outputs": [
    {
     "data": {
      "text/html": [
       "<div>\n",
       "<style scoped>\n",
       "    .dataframe tbody tr th:only-of-type {\n",
       "        vertical-align: middle;\n",
       "    }\n",
       "\n",
       "    .dataframe tbody tr th {\n",
       "        vertical-align: top;\n",
       "    }\n",
       "\n",
       "    .dataframe thead th {\n",
       "        text-align: right;\n",
       "    }\n",
       "</style>\n",
       "<table border=\"1\" class=\"dataframe\">\n",
       "  <thead>\n",
       "    <tr style=\"text-align: right;\">\n",
       "      <th></th>\n",
       "      <th>camera_id</th>\n",
       "      <th>file_name</th>\n",
       "      <th>id</th>\n",
       "      <th>label_state</th>\n",
       "      <th>label_state_admin</th>\n",
       "      <th>start_time</th>\n",
       "      <th>url_part</th>\n",
       "      <th>url_root</th>\n",
       "      <th>view_id</th>\n",
       "      <th>dataset</th>\n",
       "    </tr>\n",
       "  </thead>\n",
       "  <tbody>\n",
       "    <tr>\n",
       "      <th>0</th>\n",
       "      <td>0</td>\n",
       "      <td>0-7-2019-06-24-3504-1067-4125-1688-180-180-972...</td>\n",
       "      <td>103169</td>\n",
       "      <td>23</td>\n",
       "      <td>-1</td>\n",
       "      <td>2019-06-24 21:10:15</td>\n",
       "      <td>2019-06-24/0-7/0-7-2019-06-24-3504-1067-4125-1...</td>\n",
       "      <td>https://smoke.createlab.org/videos/180/</td>\n",
       "      <td>7</td>\n",
       "      <td>rise</td>\n",
       "    </tr>\n",
       "    <tr>\n",
       "      <th>1</th>\n",
       "      <td>0</td>\n",
       "      <td>0-7-2019-02-03-3544-899-4026-1381-180-180-7424...</td>\n",
       "      <td>22392</td>\n",
       "      <td>23</td>\n",
       "      <td>-1</td>\n",
       "      <td>2019-02-03 18:09:35</td>\n",
       "      <td>2019-02-03/0-7/0-7-2019-02-03-3544-899-4026-13...</td>\n",
       "      <td>https://smoke.createlab.org/videos/180/</td>\n",
       "      <td>7</td>\n",
       "      <td>rise</td>\n",
       "    </tr>\n",
       "    <tr>\n",
       "      <th>2</th>\n",
       "      <td>0</td>\n",
       "      <td>0-2-2018-07-07-5648-1004-6150-1506-180-180-598...</td>\n",
       "      <td>35476</td>\n",
       "      <td>23</td>\n",
       "      <td>-1</td>\n",
       "      <td>2018-07-07 15:20:35</td>\n",
       "      <td>2018-07-07/0-2/0-2-2018-07-07-5648-1004-6150-1...</td>\n",
       "      <td>https://smoke.createlab.org/videos/180/</td>\n",
       "      <td>2</td>\n",
       "      <td>rise</td>\n",
       "    </tr>\n",
       "    <tr>\n",
       "      <th>3</th>\n",
       "      <td>0</td>\n",
       "      <td>0-6-2018-07-07-3981-1084-4484-1587-180-180-385...</td>\n",
       "      <td>36353</td>\n",
       "      <td>23</td>\n",
       "      <td>-1</td>\n",
       "      <td>2018-07-07 12:15:00</td>\n",
       "      <td>2018-07-07/0-6/0-6-2018-07-07-3981-1084-4484-1...</td>\n",
       "      <td>https://smoke.createlab.org/videos/180/</td>\n",
       "      <td>6</td>\n",
       "      <td>rise</td>\n",
       "    </tr>\n",
       "    <tr>\n",
       "      <th>4</th>\n",
       "      <td>0</td>\n",
       "      <td>0-2-2018-09-19-5648-1004-6150-1506-180-180-100...</td>\n",
       "      <td>42767</td>\n",
       "      <td>23</td>\n",
       "      <td>-1</td>\n",
       "      <td>2018-09-19 21:43:05</td>\n",
       "      <td>2018-09-19/0-2/0-2-2018-09-19-5648-1004-6150-1...</td>\n",
       "      <td>https://smoke.createlab.org/videos/180/</td>\n",
       "      <td>2</td>\n",
       "      <td>rise</td>\n",
       "    </tr>\n",
       "    <tr>\n",
       "      <th>...</th>\n",
       "      <td>...</td>\n",
       "      <td>...</td>\n",
       "      <td>...</td>\n",
       "      <td>...</td>\n",
       "      <td>...</td>\n",
       "      <td>...</td>\n",
       "      <td>...</td>\n",
       "      <td>...</td>\n",
       "      <td>...</td>\n",
       "      <td>...</td>\n",
       "    </tr>\n",
       "    <tr>\n",
       "      <th>13441</th>\n",
       "      <td>3</td>\n",
       "      <td>TUZbSqcLVtU-4</td>\n",
       "      <td>700</td>\n",
       "      <td>23</td>\n",
       "      <td>47</td>\n",
       "      <td>2023-06-09 18:51:13</td>\n",
       "      <td>TUZbSqcLVtU</td>\n",
       "      <td>https://ijmondcam.multix.io/videos/</td>\n",
       "      <td>4</td>\n",
       "      <td>ijmond</td>\n",
       "    </tr>\n",
       "    <tr>\n",
       "      <th>13442</th>\n",
       "      <td>4</td>\n",
       "      <td>crAL3CrEt3s-0</td>\n",
       "      <td>172</td>\n",
       "      <td>16</td>\n",
       "      <td>16</td>\n",
       "      <td>2023-04-10 13:19:14</td>\n",
       "      <td>crAL3CrEt3s</td>\n",
       "      <td>https://ijmondcam.multix.io/videos/</td>\n",
       "      <td>0</td>\n",
       "      <td>ijmond</td>\n",
       "    </tr>\n",
       "    <tr>\n",
       "      <th>13443</th>\n",
       "      <td>4</td>\n",
       "      <td>DoNtmf5UBkY-1</td>\n",
       "      <td>381</td>\n",
       "      <td>-1</td>\n",
       "      <td>23</td>\n",
       "      <td>2023-07-08 15:49:13</td>\n",
       "      <td>DoNtmf5UBkY</td>\n",
       "      <td>https://ijmondcam.multix.io/videos/</td>\n",
       "      <td>1</td>\n",
       "      <td>ijmond</td>\n",
       "    </tr>\n",
       "    <tr>\n",
       "      <th>13444</th>\n",
       "      <td>5</td>\n",
       "      <td>ewJnawMTdAU-0</td>\n",
       "      <td>583</td>\n",
       "      <td>-1</td>\n",
       "      <td>16</td>\n",
       "      <td>2023-03-26 16:25:53</td>\n",
       "      <td>ewJnawMTdAU</td>\n",
       "      <td>https://ijmondcam.multix.io/videos/</td>\n",
       "      <td>0</td>\n",
       "      <td>ijmond</td>\n",
       "    </tr>\n",
       "    <tr>\n",
       "      <th>13445</th>\n",
       "      <td>4</td>\n",
       "      <td>vQZz9ePv_vQ-2</td>\n",
       "      <td>50</td>\n",
       "      <td>-1</td>\n",
       "      <td>16</td>\n",
       "      <td>2023-05-13 17:12:06</td>\n",
       "      <td>vQZz9ePv_vQ</td>\n",
       "      <td>https://ijmondcam.multix.io/videos/</td>\n",
       "      <td>2</td>\n",
       "      <td>ijmond</td>\n",
       "    </tr>\n",
       "  </tbody>\n",
       "</table>\n",
       "<p>13446 rows × 10 columns</p>\n",
       "</div>"
      ],
      "text/plain": [
       "       camera_id                                          file_name      id  \\\n",
       "0              0  0-7-2019-06-24-3504-1067-4125-1688-180-180-972...  103169   \n",
       "1              0  0-7-2019-02-03-3544-899-4026-1381-180-180-7424...   22392   \n",
       "2              0  0-2-2018-07-07-5648-1004-6150-1506-180-180-598...   35476   \n",
       "3              0  0-6-2018-07-07-3981-1084-4484-1587-180-180-385...   36353   \n",
       "4              0  0-2-2018-09-19-5648-1004-6150-1506-180-180-100...   42767   \n",
       "...          ...                                                ...     ...   \n",
       "13441          3                                      TUZbSqcLVtU-4     700   \n",
       "13442          4                                      crAL3CrEt3s-0     172   \n",
       "13443          4                                      DoNtmf5UBkY-1     381   \n",
       "13444          5                                      ewJnawMTdAU-0     583   \n",
       "13445          4                                      vQZz9ePv_vQ-2      50   \n",
       "\n",
       "       label_state  label_state_admin          start_time  \\\n",
       "0               23                 -1 2019-06-24 21:10:15   \n",
       "1               23                 -1 2019-02-03 18:09:35   \n",
       "2               23                 -1 2018-07-07 15:20:35   \n",
       "3               23                 -1 2018-07-07 12:15:00   \n",
       "4               23                 -1 2018-09-19 21:43:05   \n",
       "...            ...                ...                 ...   \n",
       "13441           23                 47 2023-06-09 18:51:13   \n",
       "13442           16                 16 2023-04-10 13:19:14   \n",
       "13443           -1                 23 2023-07-08 15:49:13   \n",
       "13444           -1                 16 2023-03-26 16:25:53   \n",
       "13445           -1                 16 2023-05-13 17:12:06   \n",
       "\n",
       "                                                url_part  \\\n",
       "0      2019-06-24/0-7/0-7-2019-06-24-3504-1067-4125-1...   \n",
       "1      2019-02-03/0-7/0-7-2019-02-03-3544-899-4026-13...   \n",
       "2      2018-07-07/0-2/0-2-2018-07-07-5648-1004-6150-1...   \n",
       "3      2018-07-07/0-6/0-6-2018-07-07-3981-1084-4484-1...   \n",
       "4      2018-09-19/0-2/0-2-2018-09-19-5648-1004-6150-1...   \n",
       "...                                                  ...   \n",
       "13441                                        TUZbSqcLVtU   \n",
       "13442                                        crAL3CrEt3s   \n",
       "13443                                        DoNtmf5UBkY   \n",
       "13444                                        ewJnawMTdAU   \n",
       "13445                                        vQZz9ePv_vQ   \n",
       "\n",
       "                                      url_root  view_id dataset  \n",
       "0      https://smoke.createlab.org/videos/180/        7    rise  \n",
       "1      https://smoke.createlab.org/videos/180/        7    rise  \n",
       "2      https://smoke.createlab.org/videos/180/        2    rise  \n",
       "3      https://smoke.createlab.org/videos/180/        6    rise  \n",
       "4      https://smoke.createlab.org/videos/180/        2    rise  \n",
       "...                                        ...      ...     ...  \n",
       "13441      https://ijmondcam.multix.io/videos/        4  ijmond  \n",
       "13442      https://ijmondcam.multix.io/videos/        0  ijmond  \n",
       "13443      https://ijmondcam.multix.io/videos/        1  ijmond  \n",
       "13444      https://ijmondcam.multix.io/videos/        0  ijmond  \n",
       "13445      https://ijmondcam.multix.io/videos/        2  ijmond  \n",
       "\n",
       "[13446 rows x 10 columns]"
      ]
     },
     "execution_count": 108,
     "metadata": {},
     "output_type": "execute_result"
    }
   ],
   "source": [
    "rise_df['dataset'] = 'rise'\n",
    "ijmond_df['dataset'] = 'ijmond'\n",
    "merged_dataset = pd.concat([rise_df, ijmond_df], ignore_index=True)\n",
    "merged_dataset"
   ]
  },
  {
   "cell_type": "code",
   "execution_count": 123,
   "metadata": {},
   "outputs": [],
   "source": [
    "merged_dataset = merged_dataset.drop(merged_dataset[merged_dataset['file_name'] == 'bu7USw70eXs-1'].index)"
   ]
  },
  {
   "cell_type": "code",
   "execution_count": 124,
   "metadata": {},
   "outputs": [
    {
     "data": {
      "text/html": [
       "<div>\n",
       "<style scoped>\n",
       "    .dataframe tbody tr th:only-of-type {\n",
       "        vertical-align: middle;\n",
       "    }\n",
       "\n",
       "    .dataframe tbody tr th {\n",
       "        vertical-align: top;\n",
       "    }\n",
       "\n",
       "    .dataframe thead th {\n",
       "        text-align: right;\n",
       "    }\n",
       "</style>\n",
       "<table border=\"1\" class=\"dataframe\">\n",
       "  <thead>\n",
       "    <tr style=\"text-align: right;\">\n",
       "      <th></th>\n",
       "      <th>camera_id</th>\n",
       "      <th>file_name</th>\n",
       "      <th>id</th>\n",
       "      <th>label_state</th>\n",
       "      <th>label_state_admin</th>\n",
       "      <th>start_time</th>\n",
       "      <th>url_part</th>\n",
       "      <th>url_root</th>\n",
       "      <th>view_id</th>\n",
       "      <th>dataset</th>\n",
       "    </tr>\n",
       "  </thead>\n",
       "  <tbody>\n",
       "  </tbody>\n",
       "</table>\n",
       "</div>"
      ],
      "text/plain": [
       "Empty DataFrame\n",
       "Columns: [camera_id, file_name, id, label_state, label_state_admin, start_time, url_part, url_root, view_id, dataset]\n",
       "Index: []"
      ]
     },
     "execution_count": 124,
     "metadata": {},
     "output_type": "execute_result"
    }
   ],
   "source": [
    "merged_dataset[merged_dataset['file_name'] == 'bu7USw70eXs-1']"
   ]
  },
  {
   "cell_type": "code",
   "execution_count": 125,
   "metadata": {},
   "outputs": [],
   "source": [
    "merged_dataset.to_json(\"data/merged_dataset.json\", orient='records')"
   ]
  },
  {
   "cell_type": "code",
   "execution_count": 126,
   "metadata": {},
   "outputs": [
    {
     "data": {
      "text/html": [
       "<div>\n",
       "<style scoped>\n",
       "    .dataframe tbody tr th:only-of-type {\n",
       "        vertical-align: middle;\n",
       "    }\n",
       "\n",
       "    .dataframe tbody tr th {\n",
       "        vertical-align: top;\n",
       "    }\n",
       "\n",
       "    .dataframe thead th {\n",
       "        text-align: right;\n",
       "    }\n",
       "</style>\n",
       "<table border=\"1\" class=\"dataframe\">\n",
       "  <thead>\n",
       "    <tr style=\"text-align: right;\">\n",
       "      <th></th>\n",
       "      <th>camera_id</th>\n",
       "      <th>file_name</th>\n",
       "      <th>id</th>\n",
       "      <th>label_state</th>\n",
       "      <th>label_state_admin</th>\n",
       "      <th>start_time</th>\n",
       "      <th>url_part</th>\n",
       "      <th>url_root</th>\n",
       "      <th>view_id</th>\n",
       "      <th>dataset</th>\n",
       "    </tr>\n",
       "  </thead>\n",
       "  <tbody>\n",
       "    <tr>\n",
       "      <th>0</th>\n",
       "      <td>0</td>\n",
       "      <td>0-7-2019-06-24-3504-1067-4125-1688-180-180-972...</td>\n",
       "      <td>103169</td>\n",
       "      <td>23</td>\n",
       "      <td>-1</td>\n",
       "      <td>2019-06-24 21:10:15</td>\n",
       "      <td>2019-06-24/0-7/0-7-2019-06-24-3504-1067-4125-1...</td>\n",
       "      <td>https://smoke.createlab.org/videos/180/</td>\n",
       "      <td>7</td>\n",
       "      <td>rise</td>\n",
       "    </tr>\n",
       "    <tr>\n",
       "      <th>1</th>\n",
       "      <td>0</td>\n",
       "      <td>0-7-2019-02-03-3544-899-4026-1381-180-180-7424...</td>\n",
       "      <td>22392</td>\n",
       "      <td>23</td>\n",
       "      <td>-1</td>\n",
       "      <td>2019-02-03 18:09:35</td>\n",
       "      <td>2019-02-03/0-7/0-7-2019-02-03-3544-899-4026-13...</td>\n",
       "      <td>https://smoke.createlab.org/videos/180/</td>\n",
       "      <td>7</td>\n",
       "      <td>rise</td>\n",
       "    </tr>\n",
       "    <tr>\n",
       "      <th>2</th>\n",
       "      <td>0</td>\n",
       "      <td>0-2-2018-07-07-5648-1004-6150-1506-180-180-598...</td>\n",
       "      <td>35476</td>\n",
       "      <td>23</td>\n",
       "      <td>-1</td>\n",
       "      <td>2018-07-07 15:20:35</td>\n",
       "      <td>2018-07-07/0-2/0-2-2018-07-07-5648-1004-6150-1...</td>\n",
       "      <td>https://smoke.createlab.org/videos/180/</td>\n",
       "      <td>2</td>\n",
       "      <td>rise</td>\n",
       "    </tr>\n",
       "    <tr>\n",
       "      <th>3</th>\n",
       "      <td>0</td>\n",
       "      <td>0-6-2018-07-07-3981-1084-4484-1587-180-180-385...</td>\n",
       "      <td>36353</td>\n",
       "      <td>23</td>\n",
       "      <td>-1</td>\n",
       "      <td>2018-07-07 12:15:00</td>\n",
       "      <td>2018-07-07/0-6/0-6-2018-07-07-3981-1084-4484-1...</td>\n",
       "      <td>https://smoke.createlab.org/videos/180/</td>\n",
       "      <td>6</td>\n",
       "      <td>rise</td>\n",
       "    </tr>\n",
       "    <tr>\n",
       "      <th>4</th>\n",
       "      <td>0</td>\n",
       "      <td>0-2-2018-09-19-5648-1004-6150-1506-180-180-100...</td>\n",
       "      <td>42767</td>\n",
       "      <td>23</td>\n",
       "      <td>-1</td>\n",
       "      <td>2018-09-19 21:43:05</td>\n",
       "      <td>2018-09-19/0-2/0-2-2018-09-19-5648-1004-6150-1...</td>\n",
       "      <td>https://smoke.createlab.org/videos/180/</td>\n",
       "      <td>2</td>\n",
       "      <td>rise</td>\n",
       "    </tr>\n",
       "    <tr>\n",
       "      <th>...</th>\n",
       "      <td>...</td>\n",
       "      <td>...</td>\n",
       "      <td>...</td>\n",
       "      <td>...</td>\n",
       "      <td>...</td>\n",
       "      <td>...</td>\n",
       "      <td>...</td>\n",
       "      <td>...</td>\n",
       "      <td>...</td>\n",
       "      <td>...</td>\n",
       "    </tr>\n",
       "    <tr>\n",
       "      <th>13438</th>\n",
       "      <td>3</td>\n",
       "      <td>TUZbSqcLVtU-4</td>\n",
       "      <td>700</td>\n",
       "      <td>23</td>\n",
       "      <td>47</td>\n",
       "      <td>2023-06-09 18:51:13</td>\n",
       "      <td>TUZbSqcLVtU</td>\n",
       "      <td>https://ijmondcam.multix.io/videos/</td>\n",
       "      <td>4</td>\n",
       "      <td>ijmond</td>\n",
       "    </tr>\n",
       "    <tr>\n",
       "      <th>13439</th>\n",
       "      <td>4</td>\n",
       "      <td>crAL3CrEt3s-0</td>\n",
       "      <td>172</td>\n",
       "      <td>16</td>\n",
       "      <td>16</td>\n",
       "      <td>2023-04-10 13:19:14</td>\n",
       "      <td>crAL3CrEt3s</td>\n",
       "      <td>https://ijmondcam.multix.io/videos/</td>\n",
       "      <td>0</td>\n",
       "      <td>ijmond</td>\n",
       "    </tr>\n",
       "    <tr>\n",
       "      <th>13440</th>\n",
       "      <td>4</td>\n",
       "      <td>DoNtmf5UBkY-1</td>\n",
       "      <td>381</td>\n",
       "      <td>-1</td>\n",
       "      <td>23</td>\n",
       "      <td>2023-07-08 15:49:13</td>\n",
       "      <td>DoNtmf5UBkY</td>\n",
       "      <td>https://ijmondcam.multix.io/videos/</td>\n",
       "      <td>1</td>\n",
       "      <td>ijmond</td>\n",
       "    </tr>\n",
       "    <tr>\n",
       "      <th>13441</th>\n",
       "      <td>5</td>\n",
       "      <td>ewJnawMTdAU-0</td>\n",
       "      <td>583</td>\n",
       "      <td>-1</td>\n",
       "      <td>16</td>\n",
       "      <td>2023-03-26 16:25:53</td>\n",
       "      <td>ewJnawMTdAU</td>\n",
       "      <td>https://ijmondcam.multix.io/videos/</td>\n",
       "      <td>0</td>\n",
       "      <td>ijmond</td>\n",
       "    </tr>\n",
       "    <tr>\n",
       "      <th>13442</th>\n",
       "      <td>4</td>\n",
       "      <td>vQZz9ePv_vQ-2</td>\n",
       "      <td>50</td>\n",
       "      <td>-1</td>\n",
       "      <td>16</td>\n",
       "      <td>2023-05-13 17:12:06</td>\n",
       "      <td>vQZz9ePv_vQ</td>\n",
       "      <td>https://ijmondcam.multix.io/videos/</td>\n",
       "      <td>2</td>\n",
       "      <td>ijmond</td>\n",
       "    </tr>\n",
       "  </tbody>\n",
       "</table>\n",
       "<p>13443 rows × 10 columns</p>\n",
       "</div>"
      ],
      "text/plain": [
       "       camera_id                                          file_name      id  \\\n",
       "0              0  0-7-2019-06-24-3504-1067-4125-1688-180-180-972...  103169   \n",
       "1              0  0-7-2019-02-03-3544-899-4026-1381-180-180-7424...   22392   \n",
       "2              0  0-2-2018-07-07-5648-1004-6150-1506-180-180-598...   35476   \n",
       "3              0  0-6-2018-07-07-3981-1084-4484-1587-180-180-385...   36353   \n",
       "4              0  0-2-2018-09-19-5648-1004-6150-1506-180-180-100...   42767   \n",
       "...          ...                                                ...     ...   \n",
       "13438          3                                      TUZbSqcLVtU-4     700   \n",
       "13439          4                                      crAL3CrEt3s-0     172   \n",
       "13440          4                                      DoNtmf5UBkY-1     381   \n",
       "13441          5                                      ewJnawMTdAU-0     583   \n",
       "13442          4                                      vQZz9ePv_vQ-2      50   \n",
       "\n",
       "       label_state  label_state_admin          start_time  \\\n",
       "0               23                 -1 2019-06-24 21:10:15   \n",
       "1               23                 -1 2019-02-03 18:09:35   \n",
       "2               23                 -1 2018-07-07 15:20:35   \n",
       "3               23                 -1 2018-07-07 12:15:00   \n",
       "4               23                 -1 2018-09-19 21:43:05   \n",
       "...            ...                ...                 ...   \n",
       "13438           23                 47 2023-06-09 18:51:13   \n",
       "13439           16                 16 2023-04-10 13:19:14   \n",
       "13440           -1                 23 2023-07-08 15:49:13   \n",
       "13441           -1                 16 2023-03-26 16:25:53   \n",
       "13442           -1                 16 2023-05-13 17:12:06   \n",
       "\n",
       "                                                url_part  \\\n",
       "0      2019-06-24/0-7/0-7-2019-06-24-3504-1067-4125-1...   \n",
       "1      2019-02-03/0-7/0-7-2019-02-03-3544-899-4026-13...   \n",
       "2      2018-07-07/0-2/0-2-2018-07-07-5648-1004-6150-1...   \n",
       "3      2018-07-07/0-6/0-6-2018-07-07-3981-1084-4484-1...   \n",
       "4      2018-09-19/0-2/0-2-2018-09-19-5648-1004-6150-1...   \n",
       "...                                                  ...   \n",
       "13438                                        TUZbSqcLVtU   \n",
       "13439                                        crAL3CrEt3s   \n",
       "13440                                        DoNtmf5UBkY   \n",
       "13441                                        ewJnawMTdAU   \n",
       "13442                                        vQZz9ePv_vQ   \n",
       "\n",
       "                                      url_root  view_id dataset  \n",
       "0      https://smoke.createlab.org/videos/180/        7    rise  \n",
       "1      https://smoke.createlab.org/videos/180/        7    rise  \n",
       "2      https://smoke.createlab.org/videos/180/        2    rise  \n",
       "3      https://smoke.createlab.org/videos/180/        6    rise  \n",
       "4      https://smoke.createlab.org/videos/180/        2    rise  \n",
       "...                                        ...      ...     ...  \n",
       "13438      https://ijmondcam.multix.io/videos/        4  ijmond  \n",
       "13439      https://ijmondcam.multix.io/videos/        0  ijmond  \n",
       "13440      https://ijmondcam.multix.io/videos/        1  ijmond  \n",
       "13441      https://ijmondcam.multix.io/videos/        0  ijmond  \n",
       "13442      https://ijmondcam.multix.io/videos/        2  ijmond  \n",
       "\n",
       "[13443 rows x 10 columns]"
      ]
     },
     "execution_count": 126,
     "metadata": {},
     "output_type": "execute_result"
    }
   ],
   "source": [
    "pd.read_json(\"data/merged_dataset.json\")"
   ]
  },
  {
   "cell_type": "code",
   "execution_count": 16,
   "metadata": {},
   "outputs": [],
   "source": [
    "merged_dataset['date'] = merged_dataset['start_time'].dt.date"
   ]
  },
  {
   "cell_type": "code",
   "execution_count": 18,
   "metadata": {},
   "outputs": [
    {
     "data": {
      "text/plain": [
       "134"
      ]
     },
     "execution_count": 18,
     "metadata": {},
     "output_type": "execute_result"
    }
   ],
   "source": [
    "len(merged_dataset['date'].unique())"
   ]
  },
  {
   "cell_type": "code",
   "execution_count": 19,
   "metadata": {},
   "outputs": [
    {
     "data": {
      "text/plain": [
       "33"
      ]
     },
     "execution_count": 19,
     "metadata": {},
     "output_type": "execute_result"
    }
   ],
   "source": [
    "rise_df['date'] = rise_df['start_time'].dt.date\n",
    "len(rise_df['date'].unique())"
   ]
  },
  {
   "cell_type": "code",
   "execution_count": 20,
   "metadata": {},
   "outputs": [
    {
     "data": {
      "text/plain": [
       "101"
      ]
     },
     "execution_count": 20,
     "metadata": {},
     "output_type": "execute_result"
    }
   ],
   "source": [
    "ijmond_df['date'] = ijmond_df['start_time'].dt.date\n",
    "len(ijmond_df['date'].unique())"
   ]
  },
  {
   "cell_type": "code",
   "execution_count": 45,
   "metadata": {},
   "outputs": [
    {
     "name": "stdout",
     "output_type": "stream",
     "text": [
      "train: 543.12\n",
      "val: 113.88000000000001\n",
      "test: 219.0\n"
     ]
    }
   ],
   "source": [
    "print(\"train:\",(len(ijmond_df)-3)*0.62)\n",
    "print(\"val:\",(len(ijmond_df)-3)*0.13)\n",
    "print(\"test:\",(len(ijmond_df)-3)*0.25)"
   ]
  },
  {
   "cell_type": "code",
   "execution_count": 23,
   "metadata": {},
   "outputs": [
    {
     "name": "stdout",
     "output_type": "stream",
     "text": [
      "2023-06-19    86\n",
      "2023-06-18    24\n",
      "2023-04-22    24\n",
      "2023-05-13    22\n",
      "2023-04-17    22\n",
      "              ..\n",
      "2023-05-27     2\n",
      "2023-04-20     2\n",
      "2023-08-04     2\n",
      "2023-05-08     2\n",
      "2022-07-02     2\n",
      "Name: date, Length: 101, dtype: int64\n"
     ]
    }
   ],
   "source": [
    "print(ijmond_df['date'].value_counts())"
   ]
  },
  {
   "cell_type": "code",
   "execution_count": 35,
   "metadata": {},
   "outputs": [
    {
     "data": {
      "image/png": "[encoded data removed]",
      "text/plain": [
       "<Figure size 640x480 with 1 Axes>"
      ]
     },
     "metadata": {},
     "output_type": "display_data"
    }
   ],
   "source": [
    "sns.set_style(\"whitegrid\")\n",
    "magma_palette = sns.color_palette(\"magma\")\n",
    "ax = sns.countplot(data=ijmond_df, x='date', edgecolor='black', palette=magma_palette)\n",
    "total_count = len(ijmond_df)\n",
    "for p in ax.patches:\n",
    "    height = p.get_height()\n",
    "    ax.text(p.get_x() + p.get_width() / 2, height + 3, height, ha=\"center\")"
   ]
  },
  {
   "cell_type": "code",
   "execution_count": 69,
   "metadata": {},
   "outputs": [],
   "source": [
    "date_counts = ijmond_df['date'].value_counts()\n",
    "\n",
    "# Convert the Series to a DataFrame\n",
    "date_counts_df = pd.DataFrame(date_counts)\n",
    "\n",
    "date_counts_df = date_counts_df.sort_index()"
   ]
  },
  {
   "cell_type": "code",
   "execution_count": 78,
   "metadata": {},
   "outputs": [
    {
     "data": {
      "text/html": [
       "<div>\n",
       "<style scoped>\n",
       "    .dataframe tbody tr th:only-of-type {\n",
       "        vertical-align: middle;\n",
       "    }\n",
       "\n",
       "    .dataframe tbody tr th {\n",
       "        vertical-align: top;\n",
       "    }\n",
       "\n",
       "    .dataframe thead th {\n",
       "        text-align: right;\n",
       "    }\n",
       "</style>\n",
       "<table border=\"1\" class=\"dataframe\">\n",
       "  <thead>\n",
       "    <tr style=\"text-align: right;\">\n",
       "      <th></th>\n",
       "      <th>date</th>\n",
       "    </tr>\n",
       "  </thead>\n",
       "  <tbody>\n",
       "    <tr>\n",
       "      <th>2022-05-04</th>\n",
       "      <td>2</td>\n",
       "    </tr>\n",
       "    <tr>\n",
       "      <th>2022-05-14</th>\n",
       "      <td>5</td>\n",
       "    </tr>\n",
       "    <tr>\n",
       "      <th>2022-06-28</th>\n",
       "      <td>2</td>\n",
       "    </tr>\n",
       "    <tr>\n",
       "      <th>2022-07-02</th>\n",
       "      <td>2</td>\n",
       "    </tr>\n",
       "    <tr>\n",
       "      <th>2023-01-26</th>\n",
       "      <td>4</td>\n",
       "    </tr>\n",
       "    <tr>\n",
       "      <th>...</th>\n",
       "      <td>...</td>\n",
       "    </tr>\n",
       "    <tr>\n",
       "      <th>2023-06-13</th>\n",
       "      <td>12</td>\n",
       "    </tr>\n",
       "    <tr>\n",
       "      <th>2023-06-14</th>\n",
       "      <td>15</td>\n",
       "    </tr>\n",
       "    <tr>\n",
       "      <th>2023-06-15</th>\n",
       "      <td>9</td>\n",
       "    </tr>\n",
       "    <tr>\n",
       "      <th>2023-06-16</th>\n",
       "      <td>4</td>\n",
       "    </tr>\n",
       "    <tr>\n",
       "      <th>2023-06-17</th>\n",
       "      <td>17</td>\n",
       "    </tr>\n",
       "  </tbody>\n",
       "</table>\n",
       "<p>69 rows × 1 columns</p>\n",
       "</div>"
      ],
      "text/plain": [
       "            date\n",
       "2022-05-04     2\n",
       "2022-05-14     5\n",
       "2022-06-28     2\n",
       "2022-07-02     2\n",
       "2023-01-26     4\n",
       "...          ...\n",
       "2023-06-13    12\n",
       "2023-06-14    15\n",
       "2023-06-15     9\n",
       "2023-06-16     4\n",
       "2023-06-17    17\n",
       "\n",
       "[69 rows x 1 columns]"
      ]
     },
     "execution_count": 78,
     "metadata": {},
     "output_type": "execute_result"
    }
   ],
   "source": [
    "date_counts_df.iloc[:69, :]"
   ]
  },
  {
   "cell_type": "code",
   "execution_count": 77,
   "metadata": {},
   "outputs": [
    {
     "data": {
      "text/plain": [
       "544"
      ]
     },
     "execution_count": 77,
     "metadata": {},
     "output_type": "execute_result"
    }
   ],
   "source": [
    "date_counts_df.iloc[0:69, :]['date'].sum()"
   ]
  },
  {
   "cell_type": "code",
   "execution_count": 93,
   "metadata": {},
   "outputs": [
    {
     "data": {
      "text/plain": [
       "114"
      ]
     },
     "execution_count": 93,
     "metadata": {},
     "output_type": "execute_result"
    }
   ],
   "source": [
    "date_counts_df.iloc[69:72, :]['date'].sum()"
   ]
  },
  {
   "cell_type": "code",
   "execution_count": 94,
   "metadata": {},
   "outputs": [
    {
     "data": {
      "text/html": [
       "<div>\n",
       "<style scoped>\n",
       "    .dataframe tbody tr th:only-of-type {\n",
       "        vertical-align: middle;\n",
       "    }\n",
       "\n",
       "    .dataframe tbody tr th {\n",
       "        vertical-align: top;\n",
       "    }\n",
       "\n",
       "    .dataframe thead th {\n",
       "        text-align: right;\n",
       "    }\n",
       "</style>\n",
       "<table border=\"1\" class=\"dataframe\">\n",
       "  <thead>\n",
       "    <tr style=\"text-align: right;\">\n",
       "      <th></th>\n",
       "      <th>date</th>\n",
       "    </tr>\n",
       "  </thead>\n",
       "  <tbody>\n",
       "    <tr>\n",
       "      <th>2023-06-18</th>\n",
       "      <td>24</td>\n",
       "    </tr>\n",
       "    <tr>\n",
       "      <th>2023-06-19</th>\n",
       "      <td>86</td>\n",
       "    </tr>\n",
       "    <tr>\n",
       "      <th>2023-06-20</th>\n",
       "      <td>4</td>\n",
       "    </tr>\n",
       "  </tbody>\n",
       "</table>\n",
       "</div>"
      ],
      "text/plain": [
       "            date\n",
       "2023-06-18    24\n",
       "2023-06-19    86\n",
       "2023-06-20     4"
      ]
     },
     "execution_count": 94,
     "metadata": {},
     "output_type": "execute_result"
    }
   ],
   "source": [
    "date_counts_df.iloc[69:72, :]"
   ]
  },
  {
   "cell_type": "code",
   "execution_count": 97,
   "metadata": {},
   "outputs": [
    {
     "data": {
      "text/html": [
       "<div>\n",
       "<style scoped>\n",
       "    .dataframe tbody tr th:only-of-type {\n",
       "        vertical-align: middle;\n",
       "    }\n",
       "\n",
       "    .dataframe tbody tr th {\n",
       "        vertical-align: top;\n",
       "    }\n",
       "\n",
       "    .dataframe thead th {\n",
       "        text-align: right;\n",
       "    }\n",
       "</style>\n",
       "<table border=\"1\" class=\"dataframe\">\n",
       "  <thead>\n",
       "    <tr style=\"text-align: right;\">\n",
       "      <th></th>\n",
       "      <th>date</th>\n",
       "    </tr>\n",
       "  </thead>\n",
       "  <tbody>\n",
       "    <tr>\n",
       "      <th>2023-06-21</th>\n",
       "      <td>2</td>\n",
       "    </tr>\n",
       "    <tr>\n",
       "      <th>2023-06-22</th>\n",
       "      <td>2</td>\n",
       "    </tr>\n",
       "    <tr>\n",
       "      <th>2023-06-23</th>\n",
       "      <td>21</td>\n",
       "    </tr>\n",
       "    <tr>\n",
       "      <th>2023-06-24</th>\n",
       "      <td>4</td>\n",
       "    </tr>\n",
       "    <tr>\n",
       "      <th>2023-06-25</th>\n",
       "      <td>15</td>\n",
       "    </tr>\n",
       "    <tr>\n",
       "      <th>2023-07-06</th>\n",
       "      <td>6</td>\n",
       "    </tr>\n",
       "    <tr>\n",
       "      <th>2023-07-07</th>\n",
       "      <td>2</td>\n",
       "    </tr>\n",
       "    <tr>\n",
       "      <th>2023-07-08</th>\n",
       "      <td>6</td>\n",
       "    </tr>\n",
       "    <tr>\n",
       "      <th>2023-07-09</th>\n",
       "      <td>15</td>\n",
       "    </tr>\n",
       "    <tr>\n",
       "      <th>2023-07-11</th>\n",
       "      <td>8</td>\n",
       "    </tr>\n",
       "    <tr>\n",
       "      <th>2023-07-12</th>\n",
       "      <td>2</td>\n",
       "    </tr>\n",
       "    <tr>\n",
       "      <th>2023-07-13</th>\n",
       "      <td>11</td>\n",
       "    </tr>\n",
       "    <tr>\n",
       "      <th>2023-07-14</th>\n",
       "      <td>7</td>\n",
       "    </tr>\n",
       "    <tr>\n",
       "      <th>2023-07-18</th>\n",
       "      <td>21</td>\n",
       "    </tr>\n",
       "    <tr>\n",
       "      <th>2023-07-19</th>\n",
       "      <td>4</td>\n",
       "    </tr>\n",
       "    <tr>\n",
       "      <th>2023-07-22</th>\n",
       "      <td>4</td>\n",
       "    </tr>\n",
       "    <tr>\n",
       "      <th>2023-07-24</th>\n",
       "      <td>10</td>\n",
       "    </tr>\n",
       "    <tr>\n",
       "      <th>2023-07-25</th>\n",
       "      <td>5</td>\n",
       "    </tr>\n",
       "    <tr>\n",
       "      <th>2023-07-26</th>\n",
       "      <td>9</td>\n",
       "    </tr>\n",
       "    <tr>\n",
       "      <th>2023-07-27</th>\n",
       "      <td>4</td>\n",
       "    </tr>\n",
       "    <tr>\n",
       "      <th>2023-07-28</th>\n",
       "      <td>10</td>\n",
       "    </tr>\n",
       "    <tr>\n",
       "      <th>2023-07-29</th>\n",
       "      <td>12</td>\n",
       "    </tr>\n",
       "    <tr>\n",
       "      <th>2023-07-30</th>\n",
       "      <td>4</td>\n",
       "    </tr>\n",
       "    <tr>\n",
       "      <th>2023-07-31</th>\n",
       "      <td>4</td>\n",
       "    </tr>\n",
       "    <tr>\n",
       "      <th>2023-08-01</th>\n",
       "      <td>4</td>\n",
       "    </tr>\n",
       "    <tr>\n",
       "      <th>2023-08-02</th>\n",
       "      <td>4</td>\n",
       "    </tr>\n",
       "    <tr>\n",
       "      <th>2023-08-03</th>\n",
       "      <td>10</td>\n",
       "    </tr>\n",
       "    <tr>\n",
       "      <th>2023-08-04</th>\n",
       "      <td>2</td>\n",
       "    </tr>\n",
       "    <tr>\n",
       "      <th>2023-08-09</th>\n",
       "      <td>13</td>\n",
       "    </tr>\n",
       "  </tbody>\n",
       "</table>\n",
       "</div>"
      ],
      "text/plain": [
       "            date\n",
       "2023-06-21     2\n",
       "2023-06-22     2\n",
       "2023-06-23    21\n",
       "2023-06-24     4\n",
       "2023-06-25    15\n",
       "2023-07-06     6\n",
       "2023-07-07     2\n",
       "2023-07-08     6\n",
       "2023-07-09    15\n",
       "2023-07-11     8\n",
       "2023-07-12     2\n",
       "2023-07-13    11\n",
       "2023-07-14     7\n",
       "2023-07-18    21\n",
       "2023-07-19     4\n",
       "2023-07-22     4\n",
       "2023-07-24    10\n",
       "2023-07-25     5\n",
       "2023-07-26     9\n",
       "2023-07-27     4\n",
       "2023-07-28    10\n",
       "2023-07-29    12\n",
       "2023-07-30     4\n",
       "2023-07-31     4\n",
       "2023-08-01     4\n",
       "2023-08-02     4\n",
       "2023-08-03    10\n",
       "2023-08-04     2\n",
       "2023-08-09    13"
      ]
     },
     "execution_count": 97,
     "metadata": {},
     "output_type": "execute_result"
    }
   ],
   "source": [
    "date_counts_df.iloc[72:, :]"
   ]
  },
  {
   "cell_type": "code",
   "execution_count": 96,
   "metadata": {},
   "outputs": [
    {
     "data": {
      "text/plain": [
       "101"
      ]
     },
     "execution_count": 96,
     "metadata": {},
     "output_type": "execute_result"
    }
   ],
   "source": [
    "len(date_counts_df)"
   ]
  },
  {
   "cell_type": "code",
   "execution_count": 100,
   "metadata": {},
   "outputs": [
    {
     "data": {
      "text/plain": [
       "0      4-3\n",
       "1      4-2\n",
       "2      3-4\n",
       "3      3-4\n",
       "4      4-2\n",
       "      ... \n",
       "874    3-4\n",
       "875    4-0\n",
       "876    4-1\n",
       "877    5-0\n",
       "878    4-2\n",
       "Name: camera_view, Length: 879, dtype: object"
      ]
     },
     "execution_count": 100,
     "metadata": {},
     "output_type": "execute_result"
    }
   ],
   "source": [
    "ijmond_df['camera_view'] = ijmond_df['camera_id'].astype(str) + '-' +  ijmond_df['view_id'].astype(str)\n",
    "ijmond_df['camera_view']"
   ]
  },
  {
   "cell_type": "code",
   "execution_count": 101,
   "metadata": {},
   "outputs": [],
   "source": [
    "view_counts = ijmond_df['camera_view'].value_counts()\n",
    "\n",
    "# Convert the Series to a DataFrame\n",
    "view_counts_df = pd.DataFrame(view_counts)\n",
    "\n",
    "view_counts_df = view_counts_df.sort_index()"
   ]
  },
  {
   "cell_type": "code",
   "execution_count": 102,
   "metadata": {},
   "outputs": [
    {
     "data": {
      "text/html": [
       "<div>\n",
       "<style scoped>\n",
       "    .dataframe tbody tr th:only-of-type {\n",
       "        vertical-align: middle;\n",
       "    }\n",
       "\n",
       "    .dataframe tbody tr th {\n",
       "        vertical-align: top;\n",
       "    }\n",
       "\n",
       "    .dataframe thead th {\n",
       "        text-align: right;\n",
       "    }\n",
       "</style>\n",
       "<table border=\"1\" class=\"dataframe\">\n",
       "  <thead>\n",
       "    <tr style=\"text-align: right;\">\n",
       "      <th></th>\n",
       "      <th>camera_view</th>\n",
       "    </tr>\n",
       "  </thead>\n",
       "  <tbody>\n",
       "    <tr>\n",
       "      <th>3-0</th>\n",
       "      <td>37</td>\n",
       "    </tr>\n",
       "    <tr>\n",
       "      <th>3-1</th>\n",
       "      <td>37</td>\n",
       "    </tr>\n",
       "    <tr>\n",
       "      <th>3-2</th>\n",
       "      <td>37</td>\n",
       "    </tr>\n",
       "    <tr>\n",
       "      <th>3-3</th>\n",
       "      <td>37</td>\n",
       "    </tr>\n",
       "    <tr>\n",
       "      <th>3-4</th>\n",
       "      <td>37</td>\n",
       "    </tr>\n",
       "    <tr>\n",
       "      <th>4-0</th>\n",
       "      <td>99</td>\n",
       "    </tr>\n",
       "    <tr>\n",
       "      <th>4-1</th>\n",
       "      <td>99</td>\n",
       "    </tr>\n",
       "    <tr>\n",
       "      <th>4-2</th>\n",
       "      <td>99</td>\n",
       "    </tr>\n",
       "    <tr>\n",
       "      <th>4-3</th>\n",
       "      <td>99</td>\n",
       "    </tr>\n",
       "    <tr>\n",
       "      <th>5-0</th>\n",
       "      <td>149</td>\n",
       "    </tr>\n",
       "    <tr>\n",
       "      <th>5-1</th>\n",
       "      <td>149</td>\n",
       "    </tr>\n",
       "  </tbody>\n",
       "</table>\n",
       "</div>"
      ],
      "text/plain": [
       "     camera_view\n",
       "3-0           37\n",
       "3-1           37\n",
       "3-2           37\n",
       "3-3           37\n",
       "3-4           37\n",
       "4-0           99\n",
       "4-1           99\n",
       "4-2           99\n",
       "4-3           99\n",
       "5-0          149\n",
       "5-1          149"
      ]
     },
     "execution_count": 102,
     "metadata": {},
     "output_type": "execute_result"
    }
   ],
   "source": [
    "view_counts_df"
   ]
  },
  {
   "cell_type": "code",
   "execution_count": 103,
   "metadata": {},
   "outputs": [
    {
     "data": {
      "text/plain": [
       "13446"
      ]
     },
     "execution_count": 103,
     "metadata": {},
     "output_type": "execute_result"
    }
   ],
   "source": [
    "len(merged_dataset)"
   ]
  },
  {
   "cell_type": "code",
   "execution_count": 133,
   "metadata": {},
   "outputs": [],
   "source": [
    "train1 = pd.read_json(\"data/split/metadata_train_split_0_by_camera.json\")\n",
    "train2 = pd.read_json(\"data/split/metadata_train_split_1_by_camera.json\")\n",
    "train3 = pd.read_json(\"data/split/metadata_train_split_2_by_camera.json\")\n",
    "train4 = pd.read_json(\"data/split/metadata_train_split_3_by_camera.json\")\n",
    "train5 = pd.read_json(\"data/split/metadata_train_split_4_by_camera.json\")\n",
    "train6 = pd.read_json(\"data/split/metadata_train_split_by_date.json\")"
   ]
  },
  {
   "cell_type": "code",
   "execution_count": 134,
   "metadata": {},
   "outputs": [
    {
     "name": "stdout",
     "output_type": "stream",
     "text": [
      "train 1: 8234\n",
      "train 2: 8325\n",
      "train 3: 8243\n",
      "train 4: 8360\n",
      "train 5: 8290\n",
      "train 6: 7866\n"
     ]
    }
   ],
   "source": [
    "print(\"train 1:\", len(train1))\n",
    "print(\"train 2:\", len(train2))\n",
    "print(\"train 3:\", len(train3))\n",
    "print(\"train 4:\", len(train4))\n",
    "print(\"train 5:\", len(train5))\n",
    "print(\"train 6:\", len(train6))"
   ]
  },
  {
   "cell_type": "code",
   "execution_count": 135,
   "metadata": {},
   "outputs": [],
   "source": [
    "val1 = pd.read_json(\"data/split/metadata_validation_split_0_by_camera.json\")\n",
    "val2 = pd.read_json(\"data/split/metadata_validation_split_1_by_camera.json\")\n",
    "val3 = pd.read_json(\"data/split/metadata_validation_split_2_by_camera.json\")\n",
    "val4 = pd.read_json(\"data/split/metadata_validation_split_3_by_camera.json\")\n",
    "val5 = pd.read_json(\"data/split/metadata_validation_split_4_by_camera.json\")\n",
    "val6 = pd.read_json(\"data/split/metadata_validation_split_by_date.json\")"
   ]
  },
  {
   "cell_type": "code",
   "execution_count": 136,
   "metadata": {},
   "outputs": [
    {
     "name": "stdout",
     "output_type": "stream",
     "text": [
      "val 1: 1756\n",
      "val 2: 1677\n",
      "val 3: 1670\n",
      "val 4: 1577\n",
      "val 5: 1744\n",
      "val 6: 1256\n"
     ]
    }
   ],
   "source": [
    "print(\"val 1:\", len(val1))\n",
    "print(\"val 2:\", len(val2))\n",
    "print(\"val 3:\", len(val3))\n",
    "print(\"val 4:\", len(val4))\n",
    "print(\"val 5:\", len(val5))\n",
    "print(\"val 6:\", len(val6))"
   ]
  },
  {
   "cell_type": "code",
   "execution_count": 137,
   "metadata": {},
   "outputs": [],
   "source": [
    "test1 = pd.read_json(\"data/split/metadata_test_split_0_by_camera.json\")\n",
    "test2 = pd.read_json(\"data/split/metadata_test_split_1_by_camera.json\")\n",
    "test3 = pd.read_json(\"data/split/metadata_test_split_2_by_camera.json\")\n",
    "test4 = pd.read_json(\"data/split/metadata_test_split_3_by_camera.json\")\n",
    "test5 = pd.read_json(\"data/split/metadata_test_split_4_by_camera.json\")\n",
    "test6 = pd.read_json(\"data/split/metadata_test_split_by_date.json\")"
   ]
  },
  {
   "cell_type": "code",
   "execution_count": 138,
   "metadata": {},
   "outputs": [
    {
     "name": "stdout",
     "output_type": "stream",
     "text": [
      "test 1: 3453\n",
      "test 2: 3441\n",
      "test 3: 3530\n",
      "test 4: 3506\n",
      "test 5: 3409\n",
      "test 6: 4321\n"
     ]
    }
   ],
   "source": [
    "print(\"test 1:\", len(test1))\n",
    "print(\"test 2:\", len(test2))\n",
    "print(\"test 3:\", len(test3))\n",
    "print(\"test 4:\", len(test4))\n",
    "print(\"test 5:\", len(test5))\n",
    "print(\"test 6:\", len(test6))"
   ]
  }
 ],
 "metadata": {
  "kernelspec": {
   "display_name": "base",
   "language": "python",
   "name": "python3"
  },
  "language_info": {
   "codemirror_mode": {
    "name": "ipython",
    "version": 3
   },
   "file_extension": ".py",
   "mimetype": "text/x-python",
   "name": "python",
   "nbconvert_exporter": "python",
   "pygments_lexer": "ipython3",
   "version": "3.11.4"
  }
 },
 "nbformat": 4,
 "nbformat_minor": 2
}
